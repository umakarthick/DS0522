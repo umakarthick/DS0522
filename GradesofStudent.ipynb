{
 "cells": [
  {
   "cell_type": "code",
   "execution_count": 2,
   "id": "428eeadd",
   "metadata": {},
   "outputs": [],
   "source": [
    "#IMPORTING THE REQUIRED LIBRARIES\n",
    "import pandas as pd\n",
    "import numpy as np\n",
    "import matplotlib.pyplot as plt\n",
    "from sklearn import model_selection\n",
    "from sklearn.model_selection import KFold"
   ]
  },
  {
   "cell_type": "code",
   "execution_count": 3,
   "id": "2db3c696",
   "metadata": {},
   "outputs": [
    {
     "name": "stdout",
     "output_type": "stream",
     "text": [
      "<class 'pandas.core.frame.DataFrame'>\n",
      "RangeIndex: 571 entries, 0 to 570\n",
      "Data columns (total 43 columns):\n",
      " #   Column     Non-Null Count  Dtype  \n",
      "---  ------     --------------  -----  \n",
      " 0   Seat No.   571 non-null    object \n",
      " 1   PH-121     571 non-null    object \n",
      " 2   HS-101     571 non-null    object \n",
      " 3   CY-105     570 non-null    object \n",
      " 4   HS-105/12  570 non-null    object \n",
      " 5   MT-111     569 non-null    object \n",
      " 6   CS-105     571 non-null    object \n",
      " 7   CS-106     569 non-null    object \n",
      " 8   EL-102     569 non-null    object \n",
      " 9   EE-119     569 non-null    object \n",
      " 10  ME-107     569 non-null    object \n",
      " 11  CS-107     569 non-null    object \n",
      " 12  HS-205/20  566 non-null    object \n",
      " 13  MT-222     566 non-null    object \n",
      " 14  EE-222     564 non-null    object \n",
      " 15  MT-224     564 non-null    object \n",
      " 16  CS-210     564 non-null    object \n",
      " 17  CS-211     566 non-null    object \n",
      " 18  CS-203     566 non-null    object \n",
      " 19  CS-214     565 non-null    object \n",
      " 20  EE-217     565 non-null    object \n",
      " 21  CS-212     565 non-null    object \n",
      " 22  CS-215     565 non-null    object \n",
      " 23  MT-331     562 non-null    object \n",
      " 24  EF-303     561 non-null    object \n",
      " 25  HS-304     561 non-null    object \n",
      " 26  CS-301     561 non-null    object \n",
      " 27  CS-302     561 non-null    object \n",
      " 28  TC-383     561 non-null    object \n",
      " 29  MT-442     561 non-null    object \n",
      " 30  EL-332     562 non-null    object \n",
      " 31  CS-318     562 non-null    object \n",
      " 32  CS-306     562 non-null    object \n",
      " 33  CS-312     561 non-null    object \n",
      " 34  CS-317     559 non-null    object \n",
      " 35  CS-403     559 non-null    object \n",
      " 36  CS-421     559 non-null    object \n",
      " 37  CS-406     486 non-null    object \n",
      " 38  CS-414     558 non-null    object \n",
      " 39  CS-419     558 non-null    object \n",
      " 40  CS-423     557 non-null    object \n",
      " 41  CS-412     492 non-null    object \n",
      " 42  CGPA       571 non-null    float64\n",
      "dtypes: float64(1), object(42)\n",
      "memory usage: 191.9+ KB\n"
     ]
    },
    {
     "data": {
      "text/html": [
       "<div>\n",
       "<style scoped>\n",
       "    .dataframe tbody tr th:only-of-type {\n",
       "        vertical-align: middle;\n",
       "    }\n",
       "\n",
       "    .dataframe tbody tr th {\n",
       "        vertical-align: top;\n",
       "    }\n",
       "\n",
       "    .dataframe thead th {\n",
       "        text-align: right;\n",
       "    }\n",
       "</style>\n",
       "<table border=\"1\" class=\"dataframe\">\n",
       "  <thead>\n",
       "    <tr style=\"text-align: right;\">\n",
       "      <th></th>\n",
       "      <th>Seat No.</th>\n",
       "      <th>PH-121</th>\n",
       "      <th>HS-101</th>\n",
       "      <th>CY-105</th>\n",
       "      <th>HS-105/12</th>\n",
       "      <th>MT-111</th>\n",
       "      <th>CS-105</th>\n",
       "      <th>CS-106</th>\n",
       "      <th>EL-102</th>\n",
       "      <th>EE-119</th>\n",
       "      <th>...</th>\n",
       "      <th>CS-312</th>\n",
       "      <th>CS-317</th>\n",
       "      <th>CS-403</th>\n",
       "      <th>CS-421</th>\n",
       "      <th>CS-406</th>\n",
       "      <th>CS-414</th>\n",
       "      <th>CS-419</th>\n",
       "      <th>CS-423</th>\n",
       "      <th>CS-412</th>\n",
       "      <th>CGPA</th>\n",
       "    </tr>\n",
       "  </thead>\n",
       "  <tbody>\n",
       "    <tr>\n",
       "      <th>0</th>\n",
       "      <td>CS-97001</td>\n",
       "      <td>B-</td>\n",
       "      <td>D+</td>\n",
       "      <td>C-</td>\n",
       "      <td>C</td>\n",
       "      <td>C-</td>\n",
       "      <td>D+</td>\n",
       "      <td>D</td>\n",
       "      <td>C-</td>\n",
       "      <td>B-</td>\n",
       "      <td>...</td>\n",
       "      <td>C-</td>\n",
       "      <td>C-</td>\n",
       "      <td>C-</td>\n",
       "      <td>C-</td>\n",
       "      <td>A-</td>\n",
       "      <td>A</td>\n",
       "      <td>C-</td>\n",
       "      <td>B</td>\n",
       "      <td>A-</td>\n",
       "      <td>2.205</td>\n",
       "    </tr>\n",
       "    <tr>\n",
       "      <th>1</th>\n",
       "      <td>CS-97002</td>\n",
       "      <td>A</td>\n",
       "      <td>D</td>\n",
       "      <td>D+</td>\n",
       "      <td>D</td>\n",
       "      <td>B-</td>\n",
       "      <td>C</td>\n",
       "      <td>D</td>\n",
       "      <td>A</td>\n",
       "      <td>D+</td>\n",
       "      <td>...</td>\n",
       "      <td>D+</td>\n",
       "      <td>D</td>\n",
       "      <td>C</td>\n",
       "      <td>D</td>\n",
       "      <td>A-</td>\n",
       "      <td>B-</td>\n",
       "      <td>C</td>\n",
       "      <td>C</td>\n",
       "      <td>B</td>\n",
       "      <td>2.008</td>\n",
       "    </tr>\n",
       "    <tr>\n",
       "      <th>2</th>\n",
       "      <td>CS-97003</td>\n",
       "      <td>A</td>\n",
       "      <td>B</td>\n",
       "      <td>A</td>\n",
       "      <td>B-</td>\n",
       "      <td>B+</td>\n",
       "      <td>A</td>\n",
       "      <td>B-</td>\n",
       "      <td>B+</td>\n",
       "      <td>A-</td>\n",
       "      <td>...</td>\n",
       "      <td>B</td>\n",
       "      <td>B</td>\n",
       "      <td>A</td>\n",
       "      <td>C</td>\n",
       "      <td>A</td>\n",
       "      <td>A</td>\n",
       "      <td>A</td>\n",
       "      <td>A-</td>\n",
       "      <td>A</td>\n",
       "      <td>3.608</td>\n",
       "    </tr>\n",
       "    <tr>\n",
       "      <th>3</th>\n",
       "      <td>CS-97004</td>\n",
       "      <td>D</td>\n",
       "      <td>C+</td>\n",
       "      <td>D+</td>\n",
       "      <td>D</td>\n",
       "      <td>D</td>\n",
       "      <td>A-</td>\n",
       "      <td>D+</td>\n",
       "      <td>C-</td>\n",
       "      <td>D</td>\n",
       "      <td>...</td>\n",
       "      <td>D+</td>\n",
       "      <td>C</td>\n",
       "      <td>D+</td>\n",
       "      <td>C-</td>\n",
       "      <td>B-</td>\n",
       "      <td>B</td>\n",
       "      <td>C+</td>\n",
       "      <td>C+</td>\n",
       "      <td>C+</td>\n",
       "      <td>1.906</td>\n",
       "    </tr>\n",
       "    <tr>\n",
       "      <th>4</th>\n",
       "      <td>CS-97005</td>\n",
       "      <td>A-</td>\n",
       "      <td>A-</td>\n",
       "      <td>A-</td>\n",
       "      <td>B+</td>\n",
       "      <td>A</td>\n",
       "      <td>A</td>\n",
       "      <td>A-</td>\n",
       "      <td>B+</td>\n",
       "      <td>A</td>\n",
       "      <td>...</td>\n",
       "      <td>B-</td>\n",
       "      <td>B+</td>\n",
       "      <td>B+</td>\n",
       "      <td>B-</td>\n",
       "      <td>A-</td>\n",
       "      <td>A</td>\n",
       "      <td>A-</td>\n",
       "      <td>A-</td>\n",
       "      <td>A</td>\n",
       "      <td>3.448</td>\n",
       "    </tr>\n",
       "  </tbody>\n",
       "</table>\n",
       "<p>5 rows × 43 columns</p>\n",
       "</div>"
      ],
      "text/plain": [
       "   Seat No. PH-121 HS-101 CY-105 HS-105/12 MT-111 CS-105 CS-106 EL-102 EE-119  \\\n",
       "0  CS-97001     B-     D+     C-         C     C-     D+      D     C-     B-   \n",
       "1  CS-97002      A      D     D+         D     B-      C      D      A     D+   \n",
       "2  CS-97003      A      B      A        B-     B+      A     B-     B+     A-   \n",
       "3  CS-97004      D     C+     D+         D      D     A-     D+     C-      D   \n",
       "4  CS-97005     A-     A-     A-        B+      A      A     A-     B+      A   \n",
       "\n",
       "   ... CS-312 CS-317 CS-403 CS-421 CS-406 CS-414 CS-419 CS-423 CS-412   CGPA  \n",
       "0  ...     C-     C-     C-     C-     A-      A     C-      B     A-  2.205  \n",
       "1  ...     D+      D      C      D     A-     B-      C      C      B  2.008  \n",
       "2  ...      B      B      A      C      A      A      A     A-      A  3.608  \n",
       "3  ...     D+      C     D+     C-     B-      B     C+     C+     C+  1.906  \n",
       "4  ...     B-     B+     B+     B-     A-      A     A-     A-      A  3.448  \n",
       "\n",
       "[5 rows x 43 columns]"
      ]
     },
     "execution_count": 3,
     "metadata": {},
     "output_type": "execute_result"
    }
   ],
   "source": [
    "#LOADING THE DATASET IN THE PROJECT\n",
    "dataset=pd.read_csv(\"https://raw.githubusercontent.com/dsrscientist/dataset4/main/Grades.csv\")\n",
    "dataset.info()#INFORMATION ABOUT THE DATA ABOUT HAVING NULL VALUES\n",
    "dataset.head()#PRINTS UPPER 5 ROWS IN THE DATA "
   ]
  },
  {
   "cell_type": "code",
   "execution_count": 4,
   "id": "ad3cc023",
   "metadata": {},
   "outputs": [
    {
     "data": {
      "text/plain": [
       "0    2.205\n",
       "1    2.008\n",
       "2    3.608\n",
       "3    1.906\n",
       "4    3.448\n",
       "Name: CGPA, dtype: float64"
      ]
     },
     "execution_count": 4,
     "metadata": {},
     "output_type": "execute_result"
    }
   ],
   "source": [
    "#DECLARING CGPA AS THE OUTPUT\n",
    "output=dataset.CGPA\n",
    "output.head()#PRINTS UPPER 5 ROWS IN THE DATA "
   ]
  },
  {
   "cell_type": "code",
   "execution_count": 5,
   "id": "cf75f8fb",
   "metadata": {},
   "outputs": [],
   "source": [
    "#SEPARATING INPUT AND OUTPUT FEATURES\n",
    "\n",
    "courses=dataset.drop(['CGPA','Seat No.'],axis=\"columns\")"
   ]
  },
  {
   "cell_type": "code",
   "execution_count": 6,
   "id": "77342a8d",
   "metadata": {},
   "outputs": [
    {
     "name": "stdout",
     "output_type": "stream",
     "text": [
      "<class 'pandas.core.frame.DataFrame'>\n",
      "RangeIndex: 571 entries, 0 to 570\n",
      "Data columns (total 41 columns):\n",
      " #   Column     Non-Null Count  Dtype \n",
      "---  ------     --------------  ----- \n",
      " 0   PH-121     571 non-null    object\n",
      " 1   HS-101     571 non-null    object\n",
      " 2   CY-105     570 non-null    object\n",
      " 3   HS-105/12  570 non-null    object\n",
      " 4   MT-111     569 non-null    object\n",
      " 5   CS-105     571 non-null    object\n",
      " 6   CS-106     569 non-null    object\n",
      " 7   EL-102     569 non-null    object\n",
      " 8   EE-119     569 non-null    object\n",
      " 9   ME-107     569 non-null    object\n",
      " 10  CS-107     569 non-null    object\n",
      " 11  HS-205/20  566 non-null    object\n",
      " 12  MT-222     566 non-null    object\n",
      " 13  EE-222     564 non-null    object\n",
      " 14  MT-224     564 non-null    object\n",
      " 15  CS-210     564 non-null    object\n",
      " 16  CS-211     566 non-null    object\n",
      " 17  CS-203     566 non-null    object\n",
      " 18  CS-214     565 non-null    object\n",
      " 19  EE-217     565 non-null    object\n",
      " 20  CS-212     565 non-null    object\n",
      " 21  CS-215     565 non-null    object\n",
      " 22  MT-331     562 non-null    object\n",
      " 23  EF-303     561 non-null    object\n",
      " 24  HS-304     561 non-null    object\n",
      " 25  CS-301     561 non-null    object\n",
      " 26  CS-302     561 non-null    object\n",
      " 27  TC-383     561 non-null    object\n",
      " 28  MT-442     561 non-null    object\n",
      " 29  EL-332     562 non-null    object\n",
      " 30  CS-318     562 non-null    object\n",
      " 31  CS-306     562 non-null    object\n",
      " 32  CS-312     561 non-null    object\n",
      " 33  CS-317     559 non-null    object\n",
      " 34  CS-403     559 non-null    object\n",
      " 35  CS-421     559 non-null    object\n",
      " 36  CS-406     486 non-null    object\n",
      " 37  CS-414     558 non-null    object\n",
      " 38  CS-419     558 non-null    object\n",
      " 39  CS-423     557 non-null    object\n",
      " 40  CS-412     492 non-null    object\n",
      "dtypes: object(41)\n",
      "memory usage: 183.0+ KB\n"
     ]
    }
   ],
   "source": [
    "courses.info()#INFORMATION ABOUT THE DATA ABOUT HAVING NULL VALU"
   ]
  },
  {
   "cell_type": "code",
   "execution_count": 7,
   "id": "d94f3ec2",
   "metadata": {},
   "outputs": [],
   "source": [
    "AssignGPs={\n",
    "    \"A+\": 4.0,\n",
    "    \"A\": 4.0,\n",
    "    \"A-\" : 3.7,\n",
    "    \"B+\" : 3.4,\n",
    "    \"B\" : 3.0,\n",
    "    \"B-\" : 2.7,\n",
    "    \"C+\" : 2.4,\n",
    "    \"C\" : 2.0,\n",
    "    \"C-\" : 1.7,\n",
    "    \"D+\" : 1.4,\n",
    "    \"D\" : 1.0,\n",
    "    \"F\" : 0.0,\n",
    "    \"WU\" :0\n",
    "}"
   ]
  },
  {
   "cell_type": "code",
   "execution_count": 8,
   "id": "a07cfeee",
   "metadata": {},
   "outputs": [
    {
     "data": {
      "text/html": [
       "<div>\n",
       "<style scoped>\n",
       "    .dataframe tbody tr th:only-of-type {\n",
       "        vertical-align: middle;\n",
       "    }\n",
       "\n",
       "    .dataframe tbody tr th {\n",
       "        vertical-align: top;\n",
       "    }\n",
       "\n",
       "    .dataframe thead th {\n",
       "        text-align: right;\n",
       "    }\n",
       "</style>\n",
       "<table border=\"1\" class=\"dataframe\">\n",
       "  <thead>\n",
       "    <tr style=\"text-align: right;\">\n",
       "      <th></th>\n",
       "      <th>PH-121</th>\n",
       "      <th>HS-101</th>\n",
       "      <th>CY-105</th>\n",
       "      <th>HS-105/12</th>\n",
       "      <th>MT-111</th>\n",
       "      <th>CS-105</th>\n",
       "      <th>CS-106</th>\n",
       "      <th>EL-102</th>\n",
       "      <th>EE-119</th>\n",
       "      <th>ME-107</th>\n",
       "      <th>...</th>\n",
       "      <th>CS-306</th>\n",
       "      <th>CS-312</th>\n",
       "      <th>CS-317</th>\n",
       "      <th>CS-403</th>\n",
       "      <th>CS-421</th>\n",
       "      <th>CS-406</th>\n",
       "      <th>CS-414</th>\n",
       "      <th>CS-419</th>\n",
       "      <th>CS-423</th>\n",
       "      <th>CS-412</th>\n",
       "    </tr>\n",
       "  </thead>\n",
       "  <tbody>\n",
       "    <tr>\n",
       "      <th>0</th>\n",
       "      <td>2.7</td>\n",
       "      <td>1.4</td>\n",
       "      <td>1.7</td>\n",
       "      <td>2.0</td>\n",
       "      <td>1.7</td>\n",
       "      <td>1.4</td>\n",
       "      <td>1.0</td>\n",
       "      <td>1.7</td>\n",
       "      <td>2.7</td>\n",
       "      <td>1.7</td>\n",
       "      <td>...</td>\n",
       "      <td>2.0</td>\n",
       "      <td>1.7</td>\n",
       "      <td>1.7</td>\n",
       "      <td>1.7</td>\n",
       "      <td>1.7</td>\n",
       "      <td>3.7</td>\n",
       "      <td>4.0</td>\n",
       "      <td>1.7</td>\n",
       "      <td>3.0</td>\n",
       "      <td>3.7</td>\n",
       "    </tr>\n",
       "    <tr>\n",
       "      <th>1</th>\n",
       "      <td>4.0</td>\n",
       "      <td>1.0</td>\n",
       "      <td>1.4</td>\n",
       "      <td>1.0</td>\n",
       "      <td>2.7</td>\n",
       "      <td>2.0</td>\n",
       "      <td>1.0</td>\n",
       "      <td>4.0</td>\n",
       "      <td>1.4</td>\n",
       "      <td>1.0</td>\n",
       "      <td>...</td>\n",
       "      <td>1.0</td>\n",
       "      <td>1.4</td>\n",
       "      <td>1.0</td>\n",
       "      <td>2.0</td>\n",
       "      <td>1.0</td>\n",
       "      <td>3.7</td>\n",
       "      <td>2.7</td>\n",
       "      <td>2.0</td>\n",
       "      <td>2.0</td>\n",
       "      <td>3.0</td>\n",
       "    </tr>\n",
       "    <tr>\n",
       "      <th>2</th>\n",
       "      <td>4.0</td>\n",
       "      <td>3.0</td>\n",
       "      <td>4.0</td>\n",
       "      <td>2.7</td>\n",
       "      <td>3.4</td>\n",
       "      <td>4.0</td>\n",
       "      <td>2.7</td>\n",
       "      <td>3.4</td>\n",
       "      <td>3.7</td>\n",
       "      <td>3.7</td>\n",
       "      <td>...</td>\n",
       "      <td>3.7</td>\n",
       "      <td>3.0</td>\n",
       "      <td>3.0</td>\n",
       "      <td>4.0</td>\n",
       "      <td>2.0</td>\n",
       "      <td>4.0</td>\n",
       "      <td>4.0</td>\n",
       "      <td>4.0</td>\n",
       "      <td>3.7</td>\n",
       "      <td>4.0</td>\n",
       "    </tr>\n",
       "    <tr>\n",
       "      <th>3</th>\n",
       "      <td>1.0</td>\n",
       "      <td>2.4</td>\n",
       "      <td>1.4</td>\n",
       "      <td>1.0</td>\n",
       "      <td>1.0</td>\n",
       "      <td>3.7</td>\n",
       "      <td>1.4</td>\n",
       "      <td>1.7</td>\n",
       "      <td>1.0</td>\n",
       "      <td>2.4</td>\n",
       "      <td>...</td>\n",
       "      <td>1.7</td>\n",
       "      <td>1.4</td>\n",
       "      <td>2.0</td>\n",
       "      <td>1.4</td>\n",
       "      <td>1.7</td>\n",
       "      <td>2.7</td>\n",
       "      <td>3.0</td>\n",
       "      <td>2.4</td>\n",
       "      <td>2.4</td>\n",
       "      <td>2.4</td>\n",
       "    </tr>\n",
       "    <tr>\n",
       "      <th>4</th>\n",
       "      <td>3.7</td>\n",
       "      <td>3.7</td>\n",
       "      <td>3.7</td>\n",
       "      <td>3.4</td>\n",
       "      <td>4.0</td>\n",
       "      <td>4.0</td>\n",
       "      <td>3.7</td>\n",
       "      <td>3.4</td>\n",
       "      <td>4.0</td>\n",
       "      <td>3.7</td>\n",
       "      <td>...</td>\n",
       "      <td>3.7</td>\n",
       "      <td>2.7</td>\n",
       "      <td>3.4</td>\n",
       "      <td>3.4</td>\n",
       "      <td>2.7</td>\n",
       "      <td>3.7</td>\n",
       "      <td>4.0</td>\n",
       "      <td>3.7</td>\n",
       "      <td>3.7</td>\n",
       "      <td>4.0</td>\n",
       "    </tr>\n",
       "  </tbody>\n",
       "</table>\n",
       "<p>5 rows × 41 columns</p>\n",
       "</div>"
      ],
      "text/plain": [
       "   PH-121  HS-101  CY-105  HS-105/12  MT-111  CS-105  CS-106  EL-102  EE-119  \\\n",
       "0     2.7     1.4     1.7        2.0     1.7     1.4     1.0     1.7     2.7   \n",
       "1     4.0     1.0     1.4        1.0     2.7     2.0     1.0     4.0     1.4   \n",
       "2     4.0     3.0     4.0        2.7     3.4     4.0     2.7     3.4     3.7   \n",
       "3     1.0     2.4     1.4        1.0     1.0     3.7     1.4     1.7     1.0   \n",
       "4     3.7     3.7     3.7        3.4     4.0     4.0     3.7     3.4     4.0   \n",
       "\n",
       "   ME-107  ...  CS-306  CS-312  CS-317  CS-403  CS-421  CS-406  CS-414  \\\n",
       "0     1.7  ...     2.0     1.7     1.7     1.7     1.7     3.7     4.0   \n",
       "1     1.0  ...     1.0     1.4     1.0     2.0     1.0     3.7     2.7   \n",
       "2     3.7  ...     3.7     3.0     3.0     4.0     2.0     4.0     4.0   \n",
       "3     2.4  ...     1.7     1.4     2.0     1.4     1.7     2.7     3.0   \n",
       "4     3.7  ...     3.7     2.7     3.4     3.4     2.7     3.7     4.0   \n",
       "\n",
       "   CS-419  CS-423  CS-412  \n",
       "0     1.7     3.0     3.7  \n",
       "1     2.0     2.0     3.0  \n",
       "2     4.0     3.7     4.0  \n",
       "3     2.4     2.4     2.4  \n",
       "4     3.7     3.7     4.0  \n",
       "\n",
       "[5 rows x 41 columns]"
      ]
     },
     "execution_count": 8,
     "metadata": {},
     "output_type": "execute_result"
    }
   ],
   "source": [
    "#ASSIGNING GRADE POINTS TO ALL THE GRADES IN THE DATASET\n",
    "for i in courses:\n",
    "    courses[i]=courses[i].map(AssignGPs)\n",
    "courses.head()"
   ]
  },
  {
   "cell_type": "code",
   "execution_count": 9,
   "id": "2f579925",
   "metadata": {},
   "outputs": [
    {
     "data": {
      "text/plain": [
       "Index(['CY-105', 'HS-105/12', 'MT-111', 'CS-106', 'EL-102', 'EE-119', 'ME-107',\n",
       "       'CS-107', 'HS-205/20', 'MT-222', 'EE-222', 'MT-224', 'CS-210', 'CS-211',\n",
       "       'CS-203', 'CS-214', 'EE-217', 'CS-212', 'CS-215', 'MT-331', 'EF-303',\n",
       "       'HS-304', 'CS-301', 'CS-302', 'TC-383', 'MT-442', 'EL-332', 'CS-318',\n",
       "       'CS-306', 'CS-312', 'CS-317', 'CS-403', 'CS-421', 'CS-406', 'CS-414',\n",
       "       'CS-419', 'CS-423', 'CS-412'],\n",
       "      dtype='object')"
      ]
     },
     "execution_count": 9,
     "metadata": {},
     "output_type": "execute_result"
    }
   ],
   "source": [
    "#CHECKING FOR NULL VALUES IN THE DATASET\n",
    "courses.columns[courses.isna().any()]"
   ]
  },
  {
   "cell_type": "code",
   "execution_count": 10,
   "id": "15f563d7",
   "metadata": {},
   "outputs": [],
   "source": [
    "#FILLING THE NULL VALUES BY 0\n",
    "courses[0:]=courses[0:].fillna(0)"
   ]
  },
  {
   "cell_type": "code",
   "execution_count": 11,
   "id": "364b17fd",
   "metadata": {},
   "outputs": [
    {
     "name": "stdout",
     "output_type": "stream",
     "text": [
      "<class 'pandas.core.frame.DataFrame'>\n",
      "RangeIndex: 571 entries, 0 to 570\n",
      "Data columns (total 41 columns):\n",
      " #   Column     Non-Null Count  Dtype  \n",
      "---  ------     --------------  -----  \n",
      " 0   PH-121     571 non-null    float64\n",
      " 1   HS-101     571 non-null    float64\n",
      " 2   CY-105     571 non-null    float64\n",
      " 3   HS-105/12  571 non-null    float64\n",
      " 4   MT-111     571 non-null    float64\n",
      " 5   CS-105     571 non-null    float64\n",
      " 6   CS-106     571 non-null    float64\n",
      " 7   EL-102     571 non-null    float64\n",
      " 8   EE-119     571 non-null    float64\n",
      " 9   ME-107     571 non-null    float64\n",
      " 10  CS-107     571 non-null    float64\n",
      " 11  HS-205/20  571 non-null    float64\n",
      " 12  MT-222     571 non-null    float64\n",
      " 13  EE-222     571 non-null    float64\n",
      " 14  MT-224     571 non-null    float64\n",
      " 15  CS-210     571 non-null    float64\n",
      " 16  CS-211     571 non-null    float64\n",
      " 17  CS-203     571 non-null    float64\n",
      " 18  CS-214     571 non-null    float64\n",
      " 19  EE-217     571 non-null    float64\n",
      " 20  CS-212     571 non-null    float64\n",
      " 21  CS-215     571 non-null    float64\n",
      " 22  MT-331     571 non-null    float64\n",
      " 23  EF-303     571 non-null    float64\n",
      " 24  HS-304     571 non-null    float64\n",
      " 25  CS-301     571 non-null    float64\n",
      " 26  CS-302     571 non-null    float64\n",
      " 27  TC-383     571 non-null    float64\n",
      " 28  MT-442     571 non-null    float64\n",
      " 29  EL-332     571 non-null    float64\n",
      " 30  CS-318     571 non-null    float64\n",
      " 31  CS-306     571 non-null    float64\n",
      " 32  CS-312     571 non-null    float64\n",
      " 33  CS-317     571 non-null    float64\n",
      " 34  CS-403     571 non-null    float64\n",
      " 35  CS-421     571 non-null    float64\n",
      " 36  CS-406     571 non-null    float64\n",
      " 37  CS-414     571 non-null    float64\n",
      " 38  CS-419     571 non-null    float64\n",
      " 39  CS-423     571 non-null    float64\n",
      " 40  CS-412     571 non-null    float64\n",
      "dtypes: float64(41)\n",
      "memory usage: 183.0 KB\n"
     ]
    }
   ],
   "source": [
    "courses.info()"
   ]
  },
  {
   "cell_type": "code",
   "execution_count": 12,
   "id": "c5980b92",
   "metadata": {},
   "outputs": [
    {
     "data": {
      "text/html": [
       "<div>\n",
       "<style scoped>\n",
       "    .dataframe tbody tr th:only-of-type {\n",
       "        vertical-align: middle;\n",
       "    }\n",
       "\n",
       "    .dataframe tbody tr th {\n",
       "        vertical-align: top;\n",
       "    }\n",
       "\n",
       "    .dataframe thead th {\n",
       "        text-align: right;\n",
       "    }\n",
       "</style>\n",
       "<table border=\"1\" class=\"dataframe\">\n",
       "  <thead>\n",
       "    <tr style=\"text-align: right;\">\n",
       "      <th></th>\n",
       "      <th>PH-121</th>\n",
       "      <th>HS-101</th>\n",
       "      <th>CY-105</th>\n",
       "      <th>HS-105/12</th>\n",
       "      <th>MT-111</th>\n",
       "      <th>CS-105</th>\n",
       "      <th>CS-106</th>\n",
       "      <th>EL-102</th>\n",
       "      <th>EE-119</th>\n",
       "      <th>ME-107</th>\n",
       "      <th>...</th>\n",
       "      <th>CS-306</th>\n",
       "      <th>CS-312</th>\n",
       "      <th>CS-317</th>\n",
       "      <th>CS-403</th>\n",
       "      <th>CS-421</th>\n",
       "      <th>CS-406</th>\n",
       "      <th>CS-414</th>\n",
       "      <th>CS-419</th>\n",
       "      <th>CS-423</th>\n",
       "      <th>CS-412</th>\n",
       "    </tr>\n",
       "  </thead>\n",
       "  <tbody>\n",
       "    <tr>\n",
       "      <th>0</th>\n",
       "      <td>10.8</td>\n",
       "      <td>2.8</td>\n",
       "      <td>5.1</td>\n",
       "      <td>6.0</td>\n",
       "      <td>5.1</td>\n",
       "      <td>5.6</td>\n",
       "      <td>4.0</td>\n",
       "      <td>5.1</td>\n",
       "      <td>10.8</td>\n",
       "      <td>6.8</td>\n",
       "      <td>...</td>\n",
       "      <td>8.0</td>\n",
       "      <td>5.1</td>\n",
       "      <td>5.1</td>\n",
       "      <td>5.1</td>\n",
       "      <td>6.8</td>\n",
       "      <td>7.4</td>\n",
       "      <td>12.0</td>\n",
       "      <td>6.8</td>\n",
       "      <td>12.0</td>\n",
       "      <td>14.8</td>\n",
       "    </tr>\n",
       "    <tr>\n",
       "      <th>1</th>\n",
       "      <td>16.0</td>\n",
       "      <td>2.0</td>\n",
       "      <td>4.2</td>\n",
       "      <td>3.0</td>\n",
       "      <td>8.1</td>\n",
       "      <td>8.0</td>\n",
       "      <td>4.0</td>\n",
       "      <td>12.0</td>\n",
       "      <td>5.6</td>\n",
       "      <td>4.0</td>\n",
       "      <td>...</td>\n",
       "      <td>4.0</td>\n",
       "      <td>4.2</td>\n",
       "      <td>3.0</td>\n",
       "      <td>6.0</td>\n",
       "      <td>4.0</td>\n",
       "      <td>7.4</td>\n",
       "      <td>8.1</td>\n",
       "      <td>8.0</td>\n",
       "      <td>8.0</td>\n",
       "      <td>12.0</td>\n",
       "    </tr>\n",
       "    <tr>\n",
       "      <th>2</th>\n",
       "      <td>16.0</td>\n",
       "      <td>6.0</td>\n",
       "      <td>12.0</td>\n",
       "      <td>8.1</td>\n",
       "      <td>10.2</td>\n",
       "      <td>16.0</td>\n",
       "      <td>10.8</td>\n",
       "      <td>10.2</td>\n",
       "      <td>14.8</td>\n",
       "      <td>14.8</td>\n",
       "      <td>...</td>\n",
       "      <td>14.8</td>\n",
       "      <td>9.0</td>\n",
       "      <td>9.0</td>\n",
       "      <td>12.0</td>\n",
       "      <td>8.0</td>\n",
       "      <td>8.0</td>\n",
       "      <td>12.0</td>\n",
       "      <td>16.0</td>\n",
       "      <td>14.8</td>\n",
       "      <td>16.0</td>\n",
       "    </tr>\n",
       "    <tr>\n",
       "      <th>3</th>\n",
       "      <td>4.0</td>\n",
       "      <td>4.8</td>\n",
       "      <td>4.2</td>\n",
       "      <td>3.0</td>\n",
       "      <td>3.0</td>\n",
       "      <td>14.8</td>\n",
       "      <td>5.6</td>\n",
       "      <td>5.1</td>\n",
       "      <td>4.0</td>\n",
       "      <td>9.6</td>\n",
       "      <td>...</td>\n",
       "      <td>6.8</td>\n",
       "      <td>4.2</td>\n",
       "      <td>6.0</td>\n",
       "      <td>4.2</td>\n",
       "      <td>6.8</td>\n",
       "      <td>5.4</td>\n",
       "      <td>9.0</td>\n",
       "      <td>9.6</td>\n",
       "      <td>9.6</td>\n",
       "      <td>9.6</td>\n",
       "    </tr>\n",
       "    <tr>\n",
       "      <th>4</th>\n",
       "      <td>14.8</td>\n",
       "      <td>7.4</td>\n",
       "      <td>11.1</td>\n",
       "      <td>10.2</td>\n",
       "      <td>12.0</td>\n",
       "      <td>16.0</td>\n",
       "      <td>14.8</td>\n",
       "      <td>10.2</td>\n",
       "      <td>16.0</td>\n",
       "      <td>14.8</td>\n",
       "      <td>...</td>\n",
       "      <td>14.8</td>\n",
       "      <td>8.1</td>\n",
       "      <td>10.2</td>\n",
       "      <td>10.2</td>\n",
       "      <td>10.8</td>\n",
       "      <td>7.4</td>\n",
       "      <td>12.0</td>\n",
       "      <td>14.8</td>\n",
       "      <td>14.8</td>\n",
       "      <td>16.0</td>\n",
       "    </tr>\n",
       "  </tbody>\n",
       "</table>\n",
       "<p>5 rows × 41 columns</p>\n",
       "</div>"
      ],
      "text/plain": [
       "   PH-121  HS-101  CY-105  HS-105/12  MT-111  CS-105  CS-106  EL-102  EE-119  \\\n",
       "0    10.8     2.8     5.1        6.0     5.1     5.6     4.0     5.1    10.8   \n",
       "1    16.0     2.0     4.2        3.0     8.1     8.0     4.0    12.0     5.6   \n",
       "2    16.0     6.0    12.0        8.1    10.2    16.0    10.8    10.2    14.8   \n",
       "3     4.0     4.8     4.2        3.0     3.0    14.8     5.6     5.1     4.0   \n",
       "4    14.8     7.4    11.1       10.2    12.0    16.0    14.8    10.2    16.0   \n",
       "\n",
       "   ME-107  ...  CS-306  CS-312  CS-317  CS-403  CS-421  CS-406  CS-414  \\\n",
       "0     6.8  ...     8.0     5.1     5.1     5.1     6.8     7.4    12.0   \n",
       "1     4.0  ...     4.0     4.2     3.0     6.0     4.0     7.4     8.1   \n",
       "2    14.8  ...    14.8     9.0     9.0    12.0     8.0     8.0    12.0   \n",
       "3     9.6  ...     6.8     4.2     6.0     4.2     6.8     5.4     9.0   \n",
       "4    14.8  ...    14.8     8.1    10.2    10.2    10.8     7.4    12.0   \n",
       "\n",
       "   CS-419  CS-423  CS-412  \n",
       "0     6.8    12.0    14.8  \n",
       "1     8.0     8.0    12.0  \n",
       "2    16.0    14.8    16.0  \n",
       "3     9.6     9.6     9.6  \n",
       "4    14.8    14.8    16.0  \n",
       "\n",
       "[5 rows x 41 columns]"
      ]
     },
     "execution_count": 12,
     "metadata": {},
     "output_type": "execute_result"
    }
   ],
   "source": [
    "#MULTIPLYING THE GRADE POINTS BY THEIR CREDIT HOURS\n",
    "fourcd=[0,5,6,8,9,10,13,18,19,20,21,25,30,31,35,38,39,40]\n",
    "thirdcd=[2,3,4,7,12,14,15,16,22,23,26,28,32,33,34,37]\n",
    "secondcd=[1,11,24,27,29,36]\n",
    "onecd=[17]\n",
    "for i in fourcd:\n",
    "  courses.iloc[:, i]=courses.iloc[:, i]*4\n",
    "for i in thirdcd:\n",
    "  courses.iloc[:, i]=courses.iloc[:, i]*3\n",
    "for i in secondcd:\n",
    "  courses.iloc[:, i]=courses.iloc[:, i]*2\n",
    "    \n",
    "courses.head()#PRINTS UPPER 5 ROWS IN THE DATA "
   ]
  },
  {
   "cell_type": "markdown",
   "id": "45e2c0c8",
   "metadata": {},
   "source": [
    "# MODEL1(FIRST YEAR GPs)"
   ]
  },
  {
   "cell_type": "code",
   "execution_count": 12,
   "id": "acdd5518",
   "metadata": {},
   "outputs": [],
   "source": [
    "import matplotlib.pyplot as plt\n",
    "import seaborn as sns\n",
    "\n",
    "from sklearn.linear_model import LinearRegression\n",
    "from sklearn.model_selection import train_test_split"
   ]
  },
  {
   "cell_type": "code",
   "execution_count": 13,
   "id": "75e92ca2",
   "metadata": {},
   "outputs": [],
   "source": [
    "#SEPARATING THE COURSES OF FIRST YEAR FOR MODEL 1 from data\n",
    "first_year=courses.iloc[:, 0:11]"
   ]
  },
  {
   "cell_type": "code",
   "execution_count": 14,
   "id": "19f869e1",
   "metadata": {},
   "outputs": [
    {
     "data": {
      "text/html": [
       "<div>\n",
       "<style scoped>\n",
       "    .dataframe tbody tr th:only-of-type {\n",
       "        vertical-align: middle;\n",
       "    }\n",
       "\n",
       "    .dataframe tbody tr th {\n",
       "        vertical-align: top;\n",
       "    }\n",
       "\n",
       "    .dataframe thead th {\n",
       "        text-align: right;\n",
       "    }\n",
       "</style>\n",
       "<table border=\"1\" class=\"dataframe\">\n",
       "  <thead>\n",
       "    <tr style=\"text-align: right;\">\n",
       "      <th></th>\n",
       "      <th>PH-121</th>\n",
       "      <th>HS-101</th>\n",
       "      <th>CY-105</th>\n",
       "      <th>HS-105/12</th>\n",
       "      <th>MT-111</th>\n",
       "      <th>CS-105</th>\n",
       "      <th>CS-106</th>\n",
       "      <th>EL-102</th>\n",
       "      <th>EE-119</th>\n",
       "      <th>ME-107</th>\n",
       "      <th>CS-107</th>\n",
       "    </tr>\n",
       "  </thead>\n",
       "  <tbody>\n",
       "    <tr>\n",
       "      <th>0</th>\n",
       "      <td>10.8</td>\n",
       "      <td>2.8</td>\n",
       "      <td>5.1</td>\n",
       "      <td>6.0</td>\n",
       "      <td>5.1</td>\n",
       "      <td>5.6</td>\n",
       "      <td>4.0</td>\n",
       "      <td>5.1</td>\n",
       "      <td>10.8</td>\n",
       "      <td>6.8</td>\n",
       "      <td>6.8</td>\n",
       "    </tr>\n",
       "    <tr>\n",
       "      <th>1</th>\n",
       "      <td>16.0</td>\n",
       "      <td>2.0</td>\n",
       "      <td>4.2</td>\n",
       "      <td>3.0</td>\n",
       "      <td>8.1</td>\n",
       "      <td>8.0</td>\n",
       "      <td>4.0</td>\n",
       "      <td>12.0</td>\n",
       "      <td>5.6</td>\n",
       "      <td>4.0</td>\n",
       "      <td>13.6</td>\n",
       "    </tr>\n",
       "    <tr>\n",
       "      <th>2</th>\n",
       "      <td>16.0</td>\n",
       "      <td>6.0</td>\n",
       "      <td>12.0</td>\n",
       "      <td>8.1</td>\n",
       "      <td>10.2</td>\n",
       "      <td>16.0</td>\n",
       "      <td>10.8</td>\n",
       "      <td>10.2</td>\n",
       "      <td>14.8</td>\n",
       "      <td>14.8</td>\n",
       "      <td>10.8</td>\n",
       "    </tr>\n",
       "    <tr>\n",
       "      <th>3</th>\n",
       "      <td>4.0</td>\n",
       "      <td>4.8</td>\n",
       "      <td>4.2</td>\n",
       "      <td>3.0</td>\n",
       "      <td>3.0</td>\n",
       "      <td>14.8</td>\n",
       "      <td>5.6</td>\n",
       "      <td>5.1</td>\n",
       "      <td>4.0</td>\n",
       "      <td>9.6</td>\n",
       "      <td>4.0</td>\n",
       "    </tr>\n",
       "    <tr>\n",
       "      <th>4</th>\n",
       "      <td>14.8</td>\n",
       "      <td>7.4</td>\n",
       "      <td>11.1</td>\n",
       "      <td>10.2</td>\n",
       "      <td>12.0</td>\n",
       "      <td>16.0</td>\n",
       "      <td>14.8</td>\n",
       "      <td>10.2</td>\n",
       "      <td>16.0</td>\n",
       "      <td>14.8</td>\n",
       "      <td>8.0</td>\n",
       "    </tr>\n",
       "  </tbody>\n",
       "</table>\n",
       "</div>"
      ],
      "text/plain": [
       "   PH-121  HS-101  CY-105  HS-105/12  MT-111  CS-105  CS-106  EL-102  EE-119  \\\n",
       "0    10.8     2.8     5.1        6.0     5.1     5.6     4.0     5.1    10.8   \n",
       "1    16.0     2.0     4.2        3.0     8.1     8.0     4.0    12.0     5.6   \n",
       "2    16.0     6.0    12.0        8.1    10.2    16.0    10.8    10.2    14.8   \n",
       "3     4.0     4.8     4.2        3.0     3.0    14.8     5.6     5.1     4.0   \n",
       "4    14.8     7.4    11.1       10.2    12.0    16.0    14.8    10.2    16.0   \n",
       "\n",
       "   ME-107  CS-107  \n",
       "0     6.8     6.8  \n",
       "1     4.0    13.6  \n",
       "2    14.8    10.8  \n",
       "3     9.6     4.0  \n",
       "4    14.8     8.0  "
      ]
     },
     "execution_count": 14,
     "metadata": {},
     "output_type": "execute_result"
    }
   ],
   "source": [
    "first_year.head()#PRINTS UPPER 5 ROWS IN THE DATA "
   ]
  },
  {
   "cell_type": "code",
   "execution_count": 15,
   "id": "fc4e0e2f",
   "metadata": {},
   "outputs": [],
   "source": [
    "#SPLITTING THE DATASET INTO TRAINING AND TESTING PART\n",
    "from sklearn.model_selection import train_test_split\n",
    "X_train, X_test, y_train, y_test = train_test_split(first_year,output,test_size=0.2)"
   ]
  },
  {
   "cell_type": "code",
   "execution_count": 16,
   "id": "c4761e9a",
   "metadata": {},
   "outputs": [
    {
     "data": {
      "text/plain": [
       "115"
      ]
     },
     "execution_count": 16,
     "metadata": {},
     "output_type": "execute_result"
    }
   ],
   "source": [
    "len(X_test)"
   ]
  },
  {
   "cell_type": "code",
   "execution_count": 17,
   "id": "e223c705",
   "metadata": {},
   "outputs": [
    {
     "data": {
      "text/plain": [
       "456"
      ]
     },
     "execution_count": 17,
     "metadata": {},
     "output_type": "execute_result"
    }
   ],
   "source": [
    "len(X_train)"
   ]
  },
  {
   "cell_type": "code",
   "execution_count": 18,
   "id": "ae5a8814",
   "metadata": {},
   "outputs": [
    {
     "data": {
      "text/plain": [
       "array([[<AxesSubplot:title={'center':'PH-121'}>,\n",
       "        <AxesSubplot:title={'center':'HS-101'}>,\n",
       "        <AxesSubplot:title={'center':'CY-105'}>],\n",
       "       [<AxesSubplot:title={'center':'HS-105/12'}>,\n",
       "        <AxesSubplot:title={'center':'MT-111'}>,\n",
       "        <AxesSubplot:title={'center':'CS-105'}>],\n",
       "       [<AxesSubplot:title={'center':'CS-106'}>,\n",
       "        <AxesSubplot:title={'center':'EL-102'}>,\n",
       "        <AxesSubplot:title={'center':'EE-119'}>],\n",
       "       [<AxesSubplot:title={'center':'ME-107'}>,\n",
       "        <AxesSubplot:title={'center':'CS-107'}>, <AxesSubplot:>]],\n",
       "      dtype=object)"
      ]
     },
     "execution_count": 18,
     "metadata": {},
     "output_type": "execute_result"
    },
    {
     "data": {
      "image/png": "[encoded data removed]",
      "text/plain": [
       "<Figure size 2000x1500 with 12 Axes>"
      ]
     },
     "metadata": {},
     "output_type": "display_data"
    }
   ],
   "source": [
    "first_year.hist(bins=50, figsize=(20, 15)) #It shows each course's GPA effect on CGPA"
   ]
  },
  {
   "cell_type": "markdown",
   "id": "da48f403",
   "metadata": {},
   "source": [
    "# Linear Regression Model"
   ]
  },
  {
   "cell_type": "code",
   "execution_count": 19,
   "id": "75ec0351",
   "metadata": {},
   "outputs": [],
   "source": [
    "Linear_Regression_Model_model_1=LinearRegression()"
   ]
  },
  {
   "cell_type": "code",
   "execution_count": 20,
   "id": "7332912d",
   "metadata": {},
   "outputs": [
    {
     "data": {
      "text/plain": [
       "LinearRegression()"
      ]
     },
     "execution_count": 20,
     "metadata": {},
     "output_type": "execute_result"
    }
   ],
   "source": [
    "Linear_Regression_Model_model_1.fit(X_train,y_train) "
   ]
  },
  {
   "cell_type": "code",
   "execution_count": 21,
   "id": "01436f6a",
   "metadata": {},
   "outputs": [
    {
     "data": {
      "text/plain": [
       "array([2.80266391, 3.19365959, 3.62341592, 3.38137399, 2.67200101,\n",
       "       2.6985658 , 3.5206792 , 3.57720983, 2.39900145, 2.4356463 ,\n",
       "       3.54693512, 2.73846644, 3.19975084, 3.49584785, 3.49989238,\n",
       "       2.50343535, 3.30690005, 3.76398408, 1.83942296, 3.80966516,\n",
       "       2.33914776, 3.53890028, 3.00073038, 3.63296771, 2.95255677,\n",
       "       3.62404888, 3.24930718, 2.2699206 , 2.79455516, 3.38881602,\n",
       "       2.0149714 , 3.72741065, 2.6878121 , 2.01061268, 2.53444604,\n",
       "       2.74156339, 2.85219375, 3.08742532, 3.79043167, 3.13125714,\n",
       "       3.74149525, 3.62410089, 3.52173734, 2.15124433, 2.85281607,\n",
       "       2.90081163, 1.44158936, 3.2607067 , 2.663781  , 2.40616005,\n",
       "       3.49819822, 3.22915712, 3.12276873, 3.73653129, 2.58565864,\n",
       "       2.72128466, 2.43171482, 3.21556663, 3.58949482, 3.56223865,\n",
       "       2.40402685, 3.30367429, 3.64739955, 2.86247202, 3.25483737,\n",
       "       3.43178464, 2.14491693, 3.28361069, 2.39789541, 2.92492737,\n",
       "       3.14853034, 3.28705872, 3.50693445, 3.45456183, 3.2898666 ,\n",
       "       2.94216813, 2.99035553, 1.90773276, 0.86504863, 2.11734395,\n",
       "       2.96657709, 2.82694761, 3.01682751, 3.25759668, 3.70092514,\n",
       "       2.85966766, 3.16271118, 2.9378321 , 3.21969032, 2.64176805,\n",
       "       2.52606797, 3.68835668, 3.35673309, 2.6796449 , 3.07276567,\n",
       "       3.60348346, 3.34033512, 3.41965203, 2.41241024, 2.86887574,\n",
       "       3.51844191, 3.42697772, 1.86778325, 2.82682322, 2.19364231,\n",
       "       1.7438179 , 3.51078107, 2.99766703, 3.3220845 , 3.07893261,\n",
       "       2.91560453, 3.18290061, 3.021277  , 3.5084355 , 3.52659111])"
      ]
     },
     "execution_count": 21,
     "metadata": {},
     "output_type": "execute_result"
    }
   ],
   "source": [
    "Predictions_of_Linear_Regression_model_1=Linear_Regression_Model_model_1.predict(X_test) #Try to predict(output) of test data\n",
    "Predictions_of_Linear_Regression_model_1"
   ]
  },
  {
   "cell_type": "code",
   "execution_count": 22,
   "id": "efac8705",
   "metadata": {},
   "outputs": [
    {
     "name": "stdout",
     "output_type": "stream",
     "text": [
      "Accuracy on training set: 0.873\n",
      "Accuracy on test set: 0.782\n"
     ]
    }
   ],
   "source": [
    "#For training and testing accuracy\n",
    "print(\"Accuracy on training set: {:.3f}\".format(Linear_Regression_Model_model_1.score(X_train,y_train)))\n",
    "print(\"Accuracy on test set: {:.3f}\".format(Linear_Regression_Model_model_1.score(X_test,y_test)))"
   ]
  },
  {
   "cell_type": "code",
   "execution_count": 23,
   "id": "920fbae8",
   "metadata": {},
   "outputs": [],
   "source": [
    "###Evaluating the model"
   ]
  },
  {
   "cell_type": "code",
   "execution_count": 24,
   "id": "18d532c2",
   "metadata": {},
   "outputs": [
    {
     "data": {
      "text/plain": [
       "0.27689781181834255"
      ]
     },
     "execution_count": 24,
     "metadata": {},
     "output_type": "execute_result"
    }
   ],
   "source": [
    "#calculate rmse to find error in model. Less rmse good model\n",
    "from sklearn.metrics import mean_squared_error\n",
    "mse=mean_squared_error(y_test,Predictions_of_Linear_Regression_model_1)\n",
    "rmse_of_Linear_Regression_1_model_1=np.sqrt(mse)\n",
    "rmse_of_Linear_Regression_1_model_1"
   ]
  },
  {
   "cell_type": "code",
   "execution_count": 25,
   "id": "ec9a1ae5",
   "metadata": {},
   "outputs": [
    {
     "data": {
      "text/plain": [
       "array([0.3430853 , 0.21457423, 0.31044614, 0.28894457, 0.22960013,\n",
       "       0.40737791, 0.33882045, 0.19784917, 0.25025025, 0.3213962 ])"
      ]
     },
     "execution_count": 25,
     "metadata": {},
     "output_type": "execute_result"
    }
   ],
   "source": [
    "#Try cross validation to overcome overfitting if happens and then take rmse for every round in cross validation\n",
    "from sklearn.model_selection import cross_val_score\n",
    "cross_value_1=cross_val_score(Linear_Regression_Model_model_1, X_test,y_test,scoring=\"neg_mean_squared_error\" ,cv=10)\n",
    "rmse_of_Linear_Regression_model_1=np.sqrt(-cross_value_1)\n",
    "rmse_of_Linear_Regression_model_1"
   ]
  },
  {
   "cell_type": "code",
   "execution_count": 26,
   "id": "dd4d61b5",
   "metadata": {},
   "outputs": [
    {
     "data": {
      "text/plain": [
       "0.7824205671638002"
      ]
     },
     "execution_count": 26,
     "metadata": {},
     "output_type": "execute_result"
    }
   ],
   "source": [
    "#calculate r^2 metric to find accuracy in model. More its value more better model\n",
    "from sklearn.metrics import r2_score\n",
    "r2_score1=r2_score(y_test,Predictions_of_Linear_Regression_model_1)\n",
    "r2_score1"
   ]
  },
  {
   "cell_type": "markdown",
   "id": "7cad636f",
   "metadata": {},
   "source": [
    "# RandomForest"
   ]
  },
  {
   "cell_type": "code",
   "execution_count": 27,
   "id": "065b2ba1",
   "metadata": {},
   "outputs": [],
   "source": [
    "from sklearn.ensemble import RandomForestRegressor\n",
    "Random_Forest_Model_model_1=RandomForestRegressor()"
   ]
  },
  {
   "cell_type": "code",
   "execution_count": 28,
   "id": "1d73ce12",
   "metadata": {},
   "outputs": [
    {
     "data": {
      "text/plain": [
       "RandomForestRegressor()"
      ]
     },
     "execution_count": 28,
     "metadata": {},
     "output_type": "execute_result"
    }
   ],
   "source": [
    "Random_Forest_Model_model_1.fit(X_train,y_train )"
   ]
  },
  {
   "cell_type": "code",
   "execution_count": 29,
   "id": "7821e7c8",
   "metadata": {},
   "outputs": [
    {
     "data": {
      "text/plain": [
       "array([3.08952   , 3.1456    , 3.51374   , 3.26113   , 2.73142   ,\n",
       "       2.54955   , 3.61283   , 3.61001   , 2.29863   , 2.64021   ,\n",
       "       3.58933   , 2.96062   , 3.37286   , 3.51196   , 3.36409   ,\n",
       "       2.71197   , 3.43768   , 3.81698   , 2.15039   , 3.91305   ,\n",
       "       2.40027   , 3.63121   , 3.02916   , 3.73683   , 2.90168   ,\n",
       "       3.494     , 3.3303    , 2.23469   , 2.74376   , 3.25501   ,\n",
       "       2.09579   , 3.658745  , 2.54052   , 1.97596   , 2.32985   ,\n",
       "       3.07293   , 2.80451   , 3.34696   , 3.813355  , 3.05456   ,\n",
       "       3.879415  , 3.54787533, 3.3936    , 2.21365   , 2.73155   ,\n",
       "       3.08687   , 1.6425    , 3.33401   , 2.64759   , 2.60593   ,\n",
       "       3.36018   , 3.34545   , 3.17909   , 3.72896   , 2.42493   ,\n",
       "       2.73713   , 2.34286   , 2.9554    , 3.72695   , 3.6575    ,\n",
       "       2.4927    , 3.22289   , 3.73128   , 2.68446   , 3.44711   ,\n",
       "       3.29563   , 2.17382   , 3.23984   , 2.47571   , 2.92801   ,\n",
       "       3.10574   , 3.1923    , 3.48555   , 3.60545   , 3.18973   ,\n",
       "       3.08099   , 3.12319   , 1.90692   , 1.21901   , 2.15905   ,\n",
       "       2.93986   , 2.66883   , 3.0264    , 3.22283   , 3.60972   ,\n",
       "       2.88859   , 3.11144   , 3.1074    , 3.18656   , 2.89582   ,\n",
       "       2.51157   , 3.71353   , 3.38931   , 2.85002   , 2.95799   ,\n",
       "       3.661     , 3.44752   , 3.45192   , 2.33277   , 2.90554   ,\n",
       "       3.39498   , 3.3956    , 2.05673   , 2.9088    , 2.18937   ,\n",
       "       1.99347   , 3.68301   , 3.0131    , 3.55714   , 3.08301   ,\n",
       "       2.91531   , 3.2009    , 3.03262   , 3.45555   , 3.31669   ])"
      ]
     },
     "execution_count": 29,
     "metadata": {},
     "output_type": "execute_result"
    }
   ],
   "source": [
    "Predictions_of_Random_Forest_model_1=Random_Forest_Model_model_1.predict(X_test)#Try to predict(output) of test data\n",
    "Predictions_of_Random_Forest_model_1"
   ]
  },
  {
   "cell_type": "code",
   "execution_count": 30,
   "id": "6d59fb58",
   "metadata": {},
   "outputs": [
    {
     "name": "stdout",
     "output_type": "stream",
     "text": [
      "Accuracy on training set: 0.980\n",
      "Accuracy on test set: 0.773\n"
     ]
    }
   ],
   "source": [
    "#For training and testing accuracy\n",
    "print(\"Accuracy on training set: {:.3f}\".format(Random_Forest_Model_model_1.score(X_train,y_train)))\n",
    "print(\"Accuracy on test set: {:.3f}\".format(Random_Forest_Model_model_1.score(X_test,y_test)))"
   ]
  },
  {
   "cell_type": "markdown",
   "id": "87312c0f",
   "metadata": {},
   "source": [
    "# Evaluating the model"
   ]
  },
  {
   "cell_type": "code",
   "execution_count": 31,
   "id": "a501c81a",
   "metadata": {},
   "outputs": [
    {
     "data": {
      "text/plain": [
       "0.2830073340994169"
      ]
     },
     "execution_count": 31,
     "metadata": {},
     "output_type": "execute_result"
    }
   ],
   "source": [
    "#calculate rmse to find error in model. Less rmse good model\n",
    "from sklearn.metrics import mean_squared_error\n",
    "mse=mean_squared_error(y_test,Predictions_of_Random_Forest_model_1)\n",
    "rmse_of_Random_Forest_1_model_1=np.sqrt(mse)\n",
    "rmse_of_Random_Forest_1_model_1"
   ]
  },
  {
   "cell_type": "code",
   "execution_count": 32,
   "id": "9ff7786e",
   "metadata": {},
   "outputs": [
    {
     "data": {
      "text/plain": [
       "array([0.29567423, 0.19481071, 0.37578412, 0.30531234, 0.27753939,\n",
       "       0.32641528, 0.34020874, 0.23031793, 0.28715827, 0.33372584])"
      ]
     },
     "execution_count": 32,
     "metadata": {},
     "output_type": "execute_result"
    }
   ],
   "source": [
    "#Try cross validation to overcome overfitting if happens and then take rmse for every round in cross validation\n",
    "from sklearn.model_selection import cross_val_score\n",
    "cross_value_2=cross_val_score(Random_Forest_Model_model_1, X_test,y_test,scoring=\"neg_mean_squared_error\" ,cv=10)\n",
    "rmse_of_Random_Forest_model_1=np.sqrt(-cross_value_2)\n",
    "rmse_of_Random_Forest_model_1"
   ]
  },
  {
   "cell_type": "code",
   "execution_count": 33,
   "id": "a7c3bd58",
   "metadata": {},
   "outputs": [
    {
     "data": {
      "text/plain": [
       "0.7727132212686465"
      ]
     },
     "execution_count": 33,
     "metadata": {},
     "output_type": "execute_result"
    }
   ],
   "source": [
    "#calculate r^2 metric to find accuracy in model. More its value more better model\n",
    "from sklearn.metrics import r2_score\n",
    "r2_score2=r2_score(y_test,Predictions_of_Random_Forest_model_1)\n",
    "r2_score2"
   ]
  },
  {
   "cell_type": "code",
   "execution_count": 34,
   "id": "bea3fe86",
   "metadata": {},
   "outputs": [
    {
     "data": {
      "image/png": "[encoded data removed]",
      "text/plain": [
       "<Figure size 640x480 with 1 Axes>"
      ]
     },
     "metadata": {},
     "output_type": "display_data"
    }
   ],
   "source": [
    "#For comparision between 2 models on basis of croos validation\n",
    "results=[]\n",
    "results.append(-cross_value_1)\n",
    "results.append(-cross_value_2)\n",
    "models=[('LR1',Linear_Regression_Model_model_1),('RF1',Random_Forest_Model_model_1) ]\n",
    "\n",
    "scoring='accuracy'\n",
    "names=[]\n",
    "for name,model in models:\n",
    "    names.append(name)\n",
    "#Boxplot Algorithm Comparison\n",
    "fig=plt.figure()\n",
    "fig.suptitle('Comparison between  the models')\n",
    "ax=fig.add_subplot(111)\n",
    "plt.boxplot(results)\n",
    "ax.set_xticklabels(names)\n",
    "plt.show()"
   ]
  },
  {
   "cell_type": "markdown",
   "id": "c4c41698",
   "metadata": {},
   "source": [
    "# MODEL2"
   ]
  },
  {
   "cell_type": "code",
   "execution_count": 35,
   "id": "46e3d8b5",
   "metadata": {},
   "outputs": [],
   "source": [
    "###USING IST YEAR AND 2ND YEAR GPs\n",
    "second_year=courses.iloc[:, 0:22]#SEPARATING THE COURSES OF FIRST YEAR  AND SECOND YEAR FOR MODEL 2 from data"
   ]
  },
  {
   "cell_type": "code",
   "execution_count": 36,
   "id": "3074a920",
   "metadata": {},
   "outputs": [
    {
     "data": {
      "text/html": [
       "<div>\n",
       "<style scoped>\n",
       "    .dataframe tbody tr th:only-of-type {\n",
       "        vertical-align: middle;\n",
       "    }\n",
       "\n",
       "    .dataframe tbody tr th {\n",
       "        vertical-align: top;\n",
       "    }\n",
       "\n",
       "    .dataframe thead th {\n",
       "        text-align: right;\n",
       "    }\n",
       "</style>\n",
       "<table border=\"1\" class=\"dataframe\">\n",
       "  <thead>\n",
       "    <tr style=\"text-align: right;\">\n",
       "      <th></th>\n",
       "      <th>PH-121</th>\n",
       "      <th>HS-101</th>\n",
       "      <th>CY-105</th>\n",
       "      <th>HS-105/12</th>\n",
       "      <th>MT-111</th>\n",
       "      <th>CS-105</th>\n",
       "      <th>CS-106</th>\n",
       "      <th>EL-102</th>\n",
       "      <th>EE-119</th>\n",
       "      <th>ME-107</th>\n",
       "      <th>...</th>\n",
       "      <th>MT-222</th>\n",
       "      <th>EE-222</th>\n",
       "      <th>MT-224</th>\n",
       "      <th>CS-210</th>\n",
       "      <th>CS-211</th>\n",
       "      <th>CS-203</th>\n",
       "      <th>CS-214</th>\n",
       "      <th>EE-217</th>\n",
       "      <th>CS-212</th>\n",
       "      <th>CS-215</th>\n",
       "    </tr>\n",
       "  </thead>\n",
       "  <tbody>\n",
       "    <tr>\n",
       "      <th>0</th>\n",
       "      <td>10.8</td>\n",
       "      <td>2.8</td>\n",
       "      <td>5.1</td>\n",
       "      <td>6.0</td>\n",
       "      <td>5.1</td>\n",
       "      <td>5.6</td>\n",
       "      <td>4.0</td>\n",
       "      <td>5.1</td>\n",
       "      <td>10.8</td>\n",
       "      <td>6.8</td>\n",
       "      <td>...</td>\n",
       "      <td>3.0</td>\n",
       "      <td>14.8</td>\n",
       "      <td>8.1</td>\n",
       "      <td>7.2</td>\n",
       "      <td>4.2</td>\n",
       "      <td>1.4</td>\n",
       "      <td>4.0</td>\n",
       "      <td>16.0</td>\n",
       "      <td>4.0</td>\n",
       "      <td>6.8</td>\n",
       "    </tr>\n",
       "    <tr>\n",
       "      <th>1</th>\n",
       "      <td>16.0</td>\n",
       "      <td>2.0</td>\n",
       "      <td>4.2</td>\n",
       "      <td>3.0</td>\n",
       "      <td>8.1</td>\n",
       "      <td>8.0</td>\n",
       "      <td>4.0</td>\n",
       "      <td>12.0</td>\n",
       "      <td>5.6</td>\n",
       "      <td>4.0</td>\n",
       "      <td>...</td>\n",
       "      <td>8.1</td>\n",
       "      <td>6.8</td>\n",
       "      <td>4.2</td>\n",
       "      <td>4.2</td>\n",
       "      <td>3.0</td>\n",
       "      <td>2.0</td>\n",
       "      <td>4.0</td>\n",
       "      <td>10.8</td>\n",
       "      <td>8.0</td>\n",
       "      <td>4.0</td>\n",
       "    </tr>\n",
       "    <tr>\n",
       "      <th>2</th>\n",
       "      <td>16.0</td>\n",
       "      <td>6.0</td>\n",
       "      <td>12.0</td>\n",
       "      <td>8.1</td>\n",
       "      <td>10.2</td>\n",
       "      <td>16.0</td>\n",
       "      <td>10.8</td>\n",
       "      <td>10.2</td>\n",
       "      <td>14.8</td>\n",
       "      <td>14.8</td>\n",
       "      <td>...</td>\n",
       "      <td>12.0</td>\n",
       "      <td>16.0</td>\n",
       "      <td>12.0</td>\n",
       "      <td>12.0</td>\n",
       "      <td>12.0</td>\n",
       "      <td>4.0</td>\n",
       "      <td>14.8</td>\n",
       "      <td>16.0</td>\n",
       "      <td>14.8</td>\n",
       "      <td>16.0</td>\n",
       "    </tr>\n",
       "    <tr>\n",
       "      <th>3</th>\n",
       "      <td>4.0</td>\n",
       "      <td>4.8</td>\n",
       "      <td>4.2</td>\n",
       "      <td>3.0</td>\n",
       "      <td>3.0</td>\n",
       "      <td>14.8</td>\n",
       "      <td>5.6</td>\n",
       "      <td>5.1</td>\n",
       "      <td>4.0</td>\n",
       "      <td>9.6</td>\n",
       "      <td>...</td>\n",
       "      <td>4.2</td>\n",
       "      <td>10.8</td>\n",
       "      <td>3.0</td>\n",
       "      <td>6.0</td>\n",
       "      <td>10.2</td>\n",
       "      <td>2.4</td>\n",
       "      <td>4.0</td>\n",
       "      <td>5.6</td>\n",
       "      <td>4.0</td>\n",
       "      <td>4.0</td>\n",
       "    </tr>\n",
       "    <tr>\n",
       "      <th>4</th>\n",
       "      <td>14.8</td>\n",
       "      <td>7.4</td>\n",
       "      <td>11.1</td>\n",
       "      <td>10.2</td>\n",
       "      <td>12.0</td>\n",
       "      <td>16.0</td>\n",
       "      <td>14.8</td>\n",
       "      <td>10.2</td>\n",
       "      <td>16.0</td>\n",
       "      <td>14.8</td>\n",
       "      <td>...</td>\n",
       "      <td>12.0</td>\n",
       "      <td>14.8</td>\n",
       "      <td>11.1</td>\n",
       "      <td>11.1</td>\n",
       "      <td>8.1</td>\n",
       "      <td>4.0</td>\n",
       "      <td>14.8</td>\n",
       "      <td>16.0</td>\n",
       "      <td>14.8</td>\n",
       "      <td>14.8</td>\n",
       "    </tr>\n",
       "  </tbody>\n",
       "</table>\n",
       "<p>5 rows × 22 columns</p>\n",
       "</div>"
      ],
      "text/plain": [
       "   PH-121  HS-101  CY-105  HS-105/12  MT-111  CS-105  CS-106  EL-102  EE-119  \\\n",
       "0    10.8     2.8     5.1        6.0     5.1     5.6     4.0     5.1    10.8   \n",
       "1    16.0     2.0     4.2        3.0     8.1     8.0     4.0    12.0     5.6   \n",
       "2    16.0     6.0    12.0        8.1    10.2    16.0    10.8    10.2    14.8   \n",
       "3     4.0     4.8     4.2        3.0     3.0    14.8     5.6     5.1     4.0   \n",
       "4    14.8     7.4    11.1       10.2    12.0    16.0    14.8    10.2    16.0   \n",
       "\n",
       "   ME-107  ...  MT-222  EE-222  MT-224  CS-210  CS-211  CS-203  CS-214  \\\n",
       "0     6.8  ...     3.0    14.8     8.1     7.2     4.2     1.4     4.0   \n",
       "1     4.0  ...     8.1     6.8     4.2     4.2     3.0     2.0     4.0   \n",
       "2    14.8  ...    12.0    16.0    12.0    12.0    12.0     4.0    14.8   \n",
       "3     9.6  ...     4.2    10.8     3.0     6.0    10.2     2.4     4.0   \n",
       "4    14.8  ...    12.0    14.8    11.1    11.1     8.1     4.0    14.8   \n",
       "\n",
       "   EE-217  CS-212  CS-215  \n",
       "0    16.0     4.0     6.8  \n",
       "1    10.8     8.0     4.0  \n",
       "2    16.0    14.8    16.0  \n",
       "3     5.6     4.0     4.0  \n",
       "4    16.0    14.8    14.8  \n",
       "\n",
       "[5 rows x 22 columns]"
      ]
     },
     "execution_count": 36,
     "metadata": {},
     "output_type": "execute_result"
    }
   ],
   "source": [
    "second_year.head()#PRINTS UPPER 5 ROWS IN THE DATA "
   ]
  },
  {
   "cell_type": "code",
   "execution_count": 37,
   "id": "c60ce2e8",
   "metadata": {},
   "outputs": [],
   "source": [
    "from sklearn.model_selection import train_test_split\n",
    "X_train, X_test, y_train, y_test = train_test_split(second_year,output,test_size=0.2) #SPLITTING THE DATASET INTO TRAINING AND TESTING PART"
   ]
  },
  {
   "cell_type": "code",
   "execution_count": 38,
   "id": "937e68de",
   "metadata": {},
   "outputs": [
    {
     "data": {
      "text/plain": [
       "456"
      ]
     },
     "execution_count": 38,
     "metadata": {},
     "output_type": "execute_result"
    }
   ],
   "source": [
    "len(X_train)"
   ]
  },
  {
   "cell_type": "code",
   "execution_count": 39,
   "id": "a81329d8",
   "metadata": {},
   "outputs": [
    {
     "data": {
      "text/plain": [
       "115"
      ]
     },
     "execution_count": 39,
     "metadata": {},
     "output_type": "execute_result"
    }
   ],
   "source": [
    "len(X_test)"
   ]
  },
  {
   "cell_type": "code",
   "execution_count": 40,
   "id": "cd5cb8b2",
   "metadata": {},
   "outputs": [
    {
     "data": {
      "text/plain": [
       "array([[<AxesSubplot:title={'center':'PH-121'}>,\n",
       "        <AxesSubplot:title={'center':'HS-101'}>,\n",
       "        <AxesSubplot:title={'center':'CY-105'}>,\n",
       "        <AxesSubplot:title={'center':'HS-105/12'}>,\n",
       "        <AxesSubplot:title={'center':'MT-111'}>],\n",
       "       [<AxesSubplot:title={'center':'CS-105'}>,\n",
       "        <AxesSubplot:title={'center':'CS-106'}>,\n",
       "        <AxesSubplot:title={'center':'EL-102'}>,\n",
       "        <AxesSubplot:title={'center':'EE-119'}>,\n",
       "        <AxesSubplot:title={'center':'ME-107'}>],\n",
       "       [<AxesSubplot:title={'center':'CS-107'}>,\n",
       "        <AxesSubplot:title={'center':'HS-205/20'}>,\n",
       "        <AxesSubplot:title={'center':'MT-222'}>,\n",
       "        <AxesSubplot:title={'center':'EE-222'}>,\n",
       "        <AxesSubplot:title={'center':'MT-224'}>],\n",
       "       [<AxesSubplot:title={'center':'CS-210'}>,\n",
       "        <AxesSubplot:title={'center':'CS-211'}>,\n",
       "        <AxesSubplot:title={'center':'CS-203'}>,\n",
       "        <AxesSubplot:title={'center':'CS-214'}>,\n",
       "        <AxesSubplot:title={'center':'EE-217'}>],\n",
       "       [<AxesSubplot:title={'center':'CS-212'}>,\n",
       "        <AxesSubplot:title={'center':'CS-215'}>, <AxesSubplot:>,\n",
       "        <AxesSubplot:>, <AxesSubplot:>]], dtype=object)"
      ]
     },
     "execution_count": 40,
     "metadata": {},
     "output_type": "execute_result"
    },
    {
     "data": {
      "image/png": "[encoded data removed]",
      "text/plain": [
       "<Figure size 2000x1500 with 25 Axes>"
      ]
     },
     "metadata": {},
     "output_type": "display_data"
    }
   ],
   "source": [
    "second_year.hist(bins=50, figsize=(20, 15))"
   ]
  },
  {
   "cell_type": "markdown",
   "id": "4e7da7af",
   "metadata": {},
   "source": [
    "# SVM REGRESSOR"
   ]
  },
  {
   "cell_type": "code",
   "execution_count": 41,
   "id": "656b9dff",
   "metadata": {},
   "outputs": [],
   "source": [
    "from sklearn.svm import SVR\n",
    "Support_Vector_Regressor_Model_model_2=SVR(kernel='linear')"
   ]
  },
  {
   "cell_type": "code",
   "execution_count": 42,
   "id": "3e1e9af3",
   "metadata": {},
   "outputs": [
    {
     "data": {
      "text/plain": [
       "SVR(kernel='linear')"
      ]
     },
     "execution_count": 42,
     "metadata": {},
     "output_type": "execute_result"
    }
   ],
   "source": [
    "Support_Vector_Regressor_Model_model_2.fit(X_train,y_train)"
   ]
  },
  {
   "cell_type": "code",
   "execution_count": 43,
   "id": "07eb03c5",
   "metadata": {},
   "outputs": [
    {
     "data": {
      "text/plain": [
       "array([3.35625911, 2.71871174, 3.38780333, 3.35089427, 3.49704986,\n",
       "       2.35721267, 2.34141978, 3.67711825, 3.38968094, 2.07080812,\n",
       "       3.64550274, 3.18111301, 3.72304357, 3.1464964 , 3.79072754,\n",
       "       0.57602052, 1.87210907, 2.72149564, 2.61760381, 1.89842937,\n",
       "       1.79600042, 2.30300775, 2.68655184, 2.89500181, 2.72320995,\n",
       "       3.11690429, 3.19061322, 3.71832874, 3.06347366, 2.4492015 ,\n",
       "       3.34234532, 3.19935816, 2.1123634 , 2.49148558, 3.66183189,\n",
       "       2.3952913 , 2.58467091, 3.30073722, 3.68684214, 3.14654039,\n",
       "       2.56938313, 3.01617835, 2.91855301, 3.498955  , 3.5576952 ,\n",
       "       3.20886269, 3.23410551, 2.67084323, 3.84048167, 3.70817054,\n",
       "       3.17787574, 2.8720367 , 3.87073842, 2.83277833, 3.52911134,\n",
       "       3.71934166, 1.69348541, 3.58953201, 3.73437336, 2.98811176,\n",
       "       3.56081334, 2.73275454, 2.64772124, 3.76690095, 2.3755829 ,\n",
       "       2.52861204, 3.59718198, 2.82793003, 2.81464926, 2.64880021,\n",
       "       2.46982382, 3.66606341, 3.20409294, 3.02248761, 2.69766791,\n",
       "       2.37401767, 2.25288189, 1.72452645, 3.63366459, 2.01216373,\n",
       "       3.02785067, 3.09088258, 2.90999817, 3.19753015, 2.20023361,\n",
       "       3.52087402, 3.05615373, 3.68634151, 3.05870834, 2.85508448,\n",
       "       3.30666579, 2.44631924, 2.95556321, 2.56198307, 2.89888506,\n",
       "       3.52737259, 3.04694655, 3.79021386, 2.63648723, 3.31917846,\n",
       "       2.31930058, 3.44217866, 2.66880346, 2.33666805, 2.06119785,\n",
       "       3.75183095, 3.49975362, 3.38474594, 3.40149783, 3.27915751,\n",
       "       3.55246544, 2.76149387, 3.34512283, 3.44326216, 2.64216602])"
      ]
     },
     "execution_count": 43,
     "metadata": {},
     "output_type": "execute_result"
    }
   ],
   "source": [
    "Predictions_of_Support_Vector_Regressor_model_2=Support_Vector_Regressor_Model_model_2.predict(X_test) #Try to predict(output) of test data\n",
    "Predictions_of_Support_Vector_Regressor_model_2"
   ]
  },
  {
   "cell_type": "code",
   "execution_count": 44,
   "id": "4458eee0",
   "metadata": {},
   "outputs": [
    {
     "name": "stdout",
     "output_type": "stream",
     "text": [
      "Accuracy on training set: 0.907\n",
      "Accuracy on test set: 0.936\n"
     ]
    }
   ],
   "source": [
    "#For training and testing accuracy\n",
    "print(\"Accuracy on training set: {:.3f}\".format(Support_Vector_Regressor_Model_model_2.score(X_train,y_train)))\n",
    "print(\"Accuracy on test set: {:.3f}\".format(Support_Vector_Regressor_Model_model_2.score(X_test,y_test)))"
   ]
  },
  {
   "cell_type": "markdown",
   "id": "ffb263e4",
   "metadata": {},
   "source": [
    "# Evaluating the model"
   ]
  },
  {
   "cell_type": "code",
   "execution_count": 45,
   "id": "43574c31",
   "metadata": {},
   "outputs": [
    {
     "data": {
      "text/plain": [
       "0.15628029658896778"
      ]
     },
     "execution_count": 45,
     "metadata": {},
     "output_type": "execute_result"
    }
   ],
   "source": [
    "#calculate rmse to find error in model . Less rmse good model\n",
    "from sklearn.metrics import mean_squared_error\n",
    "mse=mean_squared_error(y_test,Predictions_of_Support_Vector_Regressor_model_2)\n",
    "rmse_of_Support_Vector_Regressor_model_2=np.sqrt(mse)\n",
    "rmse_of_Support_Vector_Regressor_model_2"
   ]
  },
  {
   "cell_type": "code",
   "execution_count": 46,
   "id": "36e29bec",
   "metadata": {},
   "outputs": [
    {
     "data": {
      "text/plain": [
       "array([0.28471666, 0.23463839, 0.13214569, 0.12282922, 0.15745525,\n",
       "       0.16735121, 0.18723685, 0.179315  , 0.23625469, 0.17019881])"
      ]
     },
     "execution_count": 46,
     "metadata": {},
     "output_type": "execute_result"
    }
   ],
   "source": [
    "#Try cross validation to overcome overfitting if happens and then take rmse for every round in cross validation\n",
    "from sklearn.model_selection import cross_val_score\n",
    "cross_value_3=cross_val_score(Support_Vector_Regressor_Model_model_2, X_test,y_test,scoring=\"neg_mean_squared_error\" ,cv=10)\n",
    "rmse_of_Support_Vector_Regressor_model_2=np.sqrt(-cross_value_3)\n",
    "rmse_of_Support_Vector_Regressor_model_2"
   ]
  },
  {
   "cell_type": "code",
   "execution_count": 47,
   "id": "bff7b740",
   "metadata": {},
   "outputs": [
    {
     "data": {
      "text/plain": [
       "0.9362295087074235"
      ]
     },
     "execution_count": 47,
     "metadata": {},
     "output_type": "execute_result"
    }
   ],
   "source": [
    "#calculate r^2 metric to find accuracy in model. More its value more better model\n",
    "from sklearn.metrics import r2_score\n",
    "r2_score3=r2_score(y_test,Predictions_of_Support_Vector_Regressor_model_2)\n",
    "r2_score3"
   ]
  },
  {
   "cell_type": "markdown",
   "id": "5ab9aef8",
   "metadata": {},
   "source": [
    "# KNN Regressor"
   ]
  },
  {
   "cell_type": "code",
   "execution_count": 48,
   "id": "25e35816",
   "metadata": {},
   "outputs": [],
   "source": [
    "from sklearn.neighbors import KNeighborsRegressor\n",
    "#calling the function of algorithm and we used standard or more commonly used k value which is 5 because our dataset is not too large not \n",
    "KNeighborsRegressor_Model_model_2=KNeighborsRegressor(n_neighbors=5).fit(X_train, y_train)#Then fit on our train inputs and outputs"
   ]
  },
  {
   "cell_type": "code",
   "execution_count": 49,
   "id": "37e36969",
   "metadata": {},
   "outputs": [
    {
     "data": {
      "text/plain": [
       "array([3.4714, 2.6828, 3.646 , 3.4142, 3.5084, 2.5008, 2.54  , 3.6902,\n",
       "       3.4816, 2.077 , 3.7784, 3.3566, 3.8464, 3.2438, 3.906 , 1.1342,\n",
       "       1.914 , 2.8366, 2.5434, 2.3632, 1.8798, 2.1398, 2.5946, 3.1254,\n",
       "       2.6608, 2.9992, 3.239 , 3.833 , 3.008 , 2.3222, 3.4134, 3.4386,\n",
       "       2.063 , 2.6272, 3.59  , 2.4778, 2.6008, 3.3276, 3.811 , 3.036 ,\n",
       "       2.6064, 2.872 , 3.0006, 3.5508, 3.7408, 3.3522, 3.3696, 2.7036,\n",
       "       3.9612, 3.8018, 3.25  , 2.8706, 3.944 , 2.8072, 3.61  , 3.7596,\n",
       "       1.9318, 3.7782, 3.8226, 3.0244, 3.733 , 2.9286, 2.5822, 3.8846,\n",
       "       2.2274, 2.62  , 3.6558, 2.904 , 2.5772, 2.836 , 2.4084, 3.7838,\n",
       "       3.1964, 3.2062, 2.628 , 2.3256, 1.8314, 1.8458, 3.7702, 2.2104,\n",
       "       3.3634, 3.1406, 2.8414, 3.2512, 2.0962, 3.6382, 3.1292, 3.7402,\n",
       "       3.054 , 2.863 , 3.3392, 2.397 , 3.091 , 2.7644, 3.0784, 3.549 ,\n",
       "       3.2194, 3.8546, 2.5702, 3.5454, 2.3594, 3.4396, 2.6672, 2.3362,\n",
       "       2.0546, 3.7746, 3.6424, 3.4328, 3.3228, 3.3224, 3.6596, 2.7598,\n",
       "       3.5056, 3.5798, 2.7722])"
      ]
     },
     "execution_count": 49,
     "metadata": {},
     "output_type": "execute_result"
    }
   ],
   "source": [
    "Predictions_of_KNeighborsRegressor_model_2=KNeighborsRegressor_Model_model_2.predict(X_test)#Try to predict(output) of test data\n",
    "Predictions_of_KNeighborsRegressor_model_2"
   ]
  },
  {
   "cell_type": "code",
   "execution_count": 50,
   "id": "d9303433",
   "metadata": {},
   "outputs": [
    {
     "name": "stdout",
     "output_type": "stream",
     "text": [
      "Accuracy on training set: 0.936\n",
      "Accuracy on test set: 0.927\n"
     ]
    }
   ],
   "source": [
    "#For training and testing accuracy#For training and testing accuracy\n",
    "print(\"Accuracy on training set: {:.3f}\".format(KNeighborsRegressor_Model_model_2.score(X_train,y_train)))\n",
    "print(\"Accuracy on test set: {:.3f}\".format(KNeighborsRegressor_Model_model_2.score(X_test,y_test)))\n"
   ]
  },
  {
   "cell_type": "markdown",
   "id": "2993559c",
   "metadata": {},
   "source": [
    "# Evaluating the model"
   ]
  },
  {
   "cell_type": "code",
   "execution_count": 51,
   "id": "c996a5c6",
   "metadata": {},
   "outputs": [
    {
     "data": {
      "text/plain": [
       "0.16708347718379002"
      ]
     },
     "execution_count": 51,
     "metadata": {},
     "output_type": "execute_result"
    }
   ],
   "source": [
    "#calculate rmse to find error in model . Less rmse good model\n",
    "from sklearn.metrics import mean_squared_error\n",
    "mse=mean_squared_error(y_test,Predictions_of_KNeighborsRegressor_model_2)\n",
    "rmse_of_KNeighborsRegressor_model_2=np.sqrt(mse)\n",
    "rmse_of_KNeighborsRegressor_model_2"
   ]
  },
  {
   "cell_type": "code",
   "execution_count": 52,
   "id": "3cdcdc35",
   "metadata": {},
   "outputs": [
    {
     "data": {
      "text/plain": [
       "array([0.23477515, 0.33047671, 0.17144239, 0.18294279, 0.19707703,\n",
       "       0.21301617, 0.21793104, 0.16552408, 0.28288837, 0.18533414])"
      ]
     },
     "execution_count": 52,
     "metadata": {},
     "output_type": "execute_result"
    }
   ],
   "source": [
    "#Try cross validation to overcome overfitting if happens and then take rmse for every round in cross validation\n",
    "from sklearn.model_selection import cross_val_score\n",
    "cross_value_4=cross_val_score(KNeighborsRegressor_Model_model_2, X_test,y_test,scoring=\"neg_mean_squared_error\" ,cv=10)\n",
    "rmse_of_KNeighborsRegressor_model_2=np.sqrt(-cross_value_4)\n",
    "rmse_of_KNeighborsRegressor_model_2"
   ]
  },
  {
   "cell_type": "code",
   "execution_count": 53,
   "id": "1128bf94",
   "metadata": {},
   "outputs": [
    {
     "data": {
      "text/plain": [
       "0.927108259740551"
      ]
     },
     "execution_count": 53,
     "metadata": {},
     "output_type": "execute_result"
    }
   ],
   "source": [
    "#calculate r^2 metric to find accuracy in model. More its value more better model\n",
    "from sklearn.metrics import r2_score\n",
    "r2_score4=r2_score(y_test,Predictions_of_KNeighborsRegressor_model_2)\n",
    "r2_score4"
   ]
  },
  {
   "cell_type": "markdown",
   "id": "2415a6cf",
   "metadata": {},
   "source": [
    "# Linear Regression"
   ]
  },
  {
   "cell_type": "code",
   "execution_count": 54,
   "id": "1dd77277",
   "metadata": {},
   "outputs": [],
   "source": [
    "Linear_Regression_Model_model_2=LinearRegression()"
   ]
  },
  {
   "cell_type": "code",
   "execution_count": 55,
   "id": "91aefac9",
   "metadata": {},
   "outputs": [
    {
     "data": {
      "text/plain": [
       "LinearRegression()"
      ]
     },
     "execution_count": 55,
     "metadata": {},
     "output_type": "execute_result"
    }
   ],
   "source": [
    "Linear_Regression_Model_model_2.fit(X_train,y_train)"
   ]
  },
  {
   "cell_type": "code",
   "execution_count": 56,
   "id": "0adaace5",
   "metadata": {},
   "outputs": [
    {
     "data": {
      "text/plain": [
       "array([3.32383376, 2.80944353, 3.36909454, 3.35231916, 3.49391745,\n",
       "       2.35758908, 2.40466993, 3.67519294, 3.39484925, 2.29509538,\n",
       "       3.67429808, 3.16029931, 3.71942118, 3.12780247, 3.76532327,\n",
       "       0.75708511, 1.98005606, 2.81924453, 2.58891307, 1.9673238 ,\n",
       "       1.90496477, 2.34791507, 2.67929542, 2.87523037, 2.7415895 ,\n",
       "       3.00253382, 3.16253057, 3.72469365, 2.97287971, 2.53192184,\n",
       "       3.38843487, 3.17861552, 2.21374291, 2.46757305, 3.6250937 ,\n",
       "       2.47321282, 2.68279437, 3.27519132, 3.64705014, 3.11770599,\n",
       "       2.41855886, 2.94590416, 2.9749078 , 3.40343449, 3.56987572,\n",
       "       3.13713934, 3.26089447, 2.67190686, 3.82155157, 3.69432063,\n",
       "       3.16219195, 2.87789742, 3.86212561, 2.76796354, 3.5394247 ,\n",
       "       3.71767768, 1.72554004, 3.60169783, 3.72998497, 2.9078122 ,\n",
       "       3.50223718, 2.72772607, 2.74639097, 3.77847151, 2.37992651,\n",
       "       2.57598059, 3.54691254, 2.83666039, 2.83341264, 2.68969838,\n",
       "       2.50472222, 3.69973517, 3.20904631, 3.00716859, 2.80160168,\n",
       "       2.34459907, 2.21737217, 1.83983775, 3.61436933, 2.10058257,\n",
       "       3.0546281 , 3.10892488, 2.93051582, 3.16250645, 2.22929125,\n",
       "       3.52836067, 3.08024048, 3.72939463, 3.11884408, 2.85142168,\n",
       "       3.33114978, 2.44514991, 2.97471079, 2.71432841, 2.97836108,\n",
       "       3.52836312, 3.15497044, 3.83990594, 2.66443202, 3.28444565,\n",
       "       2.32545893, 3.35750963, 2.67624819, 2.32463015, 2.12890426,\n",
       "       3.7465981 , 3.50179903, 3.38529505, 3.37136198, 3.27904401,\n",
       "       3.52325616, 2.7219254 , 3.27267906, 3.44096294, 2.54940308])"
      ]
     },
     "execution_count": 56,
     "metadata": {},
     "output_type": "execute_result"
    }
   ],
   "source": [
    "Predictions_of_Linear_Regression_model_2=Linear_Regression_Model_model_2.predict(X_test) #Try to predict(output) of test data\n",
    "Predictions_of_Linear_Regression_model_2"
   ]
  },
  {
   "cell_type": "code",
   "execution_count": 57,
   "id": "f65c615d",
   "metadata": {},
   "outputs": [
    {
     "name": "stdout",
     "output_type": "stream",
     "text": [
      "Accuracy on training set: 0.918\n",
      "Accuracy on test set: 0.925\n"
     ]
    }
   ],
   "source": [
    "#For training and testing accuracy\n",
    "print(\"Accuracy on training set: {:.3f}\".format(Linear_Regression_Model_model_2.score(X_train,y_train)))\n",
    "print(\"Accuracy on test set: {:.3f}\".format(Linear_Regression_Model_model_2.score(X_test,y_test)))"
   ]
  },
  {
   "cell_type": "markdown",
   "id": "303cb6b3",
   "metadata": {},
   "source": [
    "# Evaluating the model"
   ]
  },
  {
   "cell_type": "code",
   "execution_count": 58,
   "id": "b4a9d07f",
   "metadata": {},
   "outputs": [
    {
     "data": {
      "text/plain": [
       "0.16905481303878153"
      ]
     },
     "execution_count": 58,
     "metadata": {},
     "output_type": "execute_result"
    }
   ],
   "source": [
    "#calculate rmse to find error in model. Less rmse good model\n",
    "from sklearn.metrics import mean_squared_error\n",
    "mse=mean_squared_error(y_test,Predictions_of_Linear_Regression_model_2)\n",
    "rmse_of_Linear_Regression_1_model_2=np.sqrt(mse)\n",
    "rmse_of_Linear_Regression_1_model_2"
   ]
  },
  {
   "cell_type": "code",
   "execution_count": 59,
   "id": "19db6032",
   "metadata": {},
   "outputs": [
    {
     "data": {
      "text/plain": [
       "array([0.30004025, 0.25774715, 0.12489025, 0.12892769, 0.17071612,\n",
       "       0.16110742, 0.18874971, 0.17491043, 0.24041046, 0.17049155])"
      ]
     },
     "execution_count": 59,
     "metadata": {},
     "output_type": "execute_result"
    }
   ],
   "source": [
    "#Try cross validation to overcome overfitting if happens and then take rmse for every round in cross validation\n",
    "from sklearn.model_selection import cross_val_score\n",
    "cross_value_1=cross_val_score(Linear_Regression_Model_model_2, X_test,y_test,scoring=\"neg_mean_squared_error\" ,cv=10)\n",
    "rmse_of_Linear_Regression_model_2=np.sqrt(-cross_value_1)\n",
    "rmse_of_Linear_Regression_model_2"
   ]
  },
  {
   "cell_type": "code",
   "execution_count": 60,
   "id": "dde40ee2",
   "metadata": {},
   "outputs": [
    {
     "data": {
      "text/plain": [
       "0.9253780852003551"
      ]
     },
     "execution_count": 60,
     "metadata": {},
     "output_type": "execute_result"
    }
   ],
   "source": [
    "#calculate r^2 metric to find accuracy in model. More its value more better model\n",
    "from sklearn.metrics import r2_score\n",
    "r2_score7=r2_score(y_test,Predictions_of_Linear_Regression_model_2)\n",
    "r2_score7"
   ]
  },
  {
   "cell_type": "code",
   "execution_count": 61,
   "id": "21a7803a",
   "metadata": {},
   "outputs": [
    {
     "data": {
      "image/png": "[encoded data removed]",
      "text/plain": [
       "<Figure size 640x480 with 1 Axes>"
      ]
     },
     "metadata": {},
     "output_type": "display_data"
    }
   ],
   "source": [
    "#For comparision between 2 models on basis of cross validation\n",
    "results=[]\n",
    "results.append(-cross_value_3)\n",
    "results.append(-cross_value_4)\n",
    "models=[('SVR2',Support_Vector_Regressor_Model_model_2),('KNN2',KNeighborsRegressor_Model_model_2)]\n",
    "scoring='accuracy'\n",
    "names=[]\n",
    "for name,model in models:\n",
    "    names.append(name)\n",
    "#Boxplot Algorithm Comparison\n",
    "fig=plt.figure()\n",
    "fig.suptitle('Comparison between  the models')\n",
    "ax=fig.add_subplot(111)\n",
    "plt.boxplot(results)\n",
    "ax.set_xticklabels(names)\n",
    "plt.show()"
   ]
  },
  {
   "cell_type": "markdown",
   "id": "fbb6a5f3",
   "metadata": {},
   "source": [
    "# MODEL3"
   ]
  },
  {
   "cell_type": "code",
   "execution_count": 62,
   "id": "93b7367f",
   "metadata": {},
   "outputs": [],
   "source": [
    "courses.rename(columns = {'MT-442':'MT_442'}, inplace = True)\n",
    "column_to_move=courses.pop(\"MT_442\")\n",
    "courses.insert(33, \"MT_442\", column_to_move)#There is a course of fourth year in third year data so we move it\n",
    "third_year=courses.iloc[:, 0:33] #SEPARATING THE COURSES OF FIRST YEAR, SECOND YEAR AND THIRD YEAR FOR MODEL 3 from data"
   ]
  },
  {
   "cell_type": "code",
   "execution_count": 63,
   "id": "0c0113e9",
   "metadata": {},
   "outputs": [
    {
     "data": {
      "text/html": [
       "<div>\n",
       "<style scoped>\n",
       "    .dataframe tbody tr th:only-of-type {\n",
       "        vertical-align: middle;\n",
       "    }\n",
       "\n",
       "    .dataframe tbody tr th {\n",
       "        vertical-align: top;\n",
       "    }\n",
       "\n",
       "    .dataframe thead th {\n",
       "        text-align: right;\n",
       "    }\n",
       "</style>\n",
       "<table border=\"1\" class=\"dataframe\">\n",
       "  <thead>\n",
       "    <tr style=\"text-align: right;\">\n",
       "      <th></th>\n",
       "      <th>PH-121</th>\n",
       "      <th>HS-101</th>\n",
       "      <th>CY-105</th>\n",
       "      <th>HS-105/12</th>\n",
       "      <th>MT-111</th>\n",
       "      <th>CS-105</th>\n",
       "      <th>CS-106</th>\n",
       "      <th>EL-102</th>\n",
       "      <th>EE-119</th>\n",
       "      <th>ME-107</th>\n",
       "      <th>...</th>\n",
       "      <th>EF-303</th>\n",
       "      <th>HS-304</th>\n",
       "      <th>CS-301</th>\n",
       "      <th>CS-302</th>\n",
       "      <th>TC-383</th>\n",
       "      <th>EL-332</th>\n",
       "      <th>CS-318</th>\n",
       "      <th>CS-306</th>\n",
       "      <th>CS-312</th>\n",
       "      <th>CS-317</th>\n",
       "    </tr>\n",
       "  </thead>\n",
       "  <tbody>\n",
       "    <tr>\n",
       "      <th>0</th>\n",
       "      <td>10.8</td>\n",
       "      <td>2.8</td>\n",
       "      <td>5.1</td>\n",
       "      <td>6.0</td>\n",
       "      <td>5.1</td>\n",
       "      <td>5.6</td>\n",
       "      <td>4.0</td>\n",
       "      <td>5.1</td>\n",
       "      <td>10.8</td>\n",
       "      <td>6.8</td>\n",
       "      <td>...</td>\n",
       "      <td>5.1</td>\n",
       "      <td>4.8</td>\n",
       "      <td>12.0</td>\n",
       "      <td>6.0</td>\n",
       "      <td>4.8</td>\n",
       "      <td>4.0</td>\n",
       "      <td>6.8</td>\n",
       "      <td>8.0</td>\n",
       "      <td>5.1</td>\n",
       "      <td>5.1</td>\n",
       "    </tr>\n",
       "    <tr>\n",
       "      <th>1</th>\n",
       "      <td>16.0</td>\n",
       "      <td>2.0</td>\n",
       "      <td>4.2</td>\n",
       "      <td>3.0</td>\n",
       "      <td>8.1</td>\n",
       "      <td>8.0</td>\n",
       "      <td>4.0</td>\n",
       "      <td>12.0</td>\n",
       "      <td>5.6</td>\n",
       "      <td>4.0</td>\n",
       "      <td>...</td>\n",
       "      <td>3.0</td>\n",
       "      <td>3.4</td>\n",
       "      <td>14.8</td>\n",
       "      <td>4.2</td>\n",
       "      <td>3.4</td>\n",
       "      <td>4.0</td>\n",
       "      <td>14.8</td>\n",
       "      <td>4.0</td>\n",
       "      <td>4.2</td>\n",
       "      <td>3.0</td>\n",
       "    </tr>\n",
       "    <tr>\n",
       "      <th>2</th>\n",
       "      <td>16.0</td>\n",
       "      <td>6.0</td>\n",
       "      <td>12.0</td>\n",
       "      <td>8.1</td>\n",
       "      <td>10.2</td>\n",
       "      <td>16.0</td>\n",
       "      <td>10.8</td>\n",
       "      <td>10.2</td>\n",
       "      <td>14.8</td>\n",
       "      <td>14.8</td>\n",
       "      <td>...</td>\n",
       "      <td>7.2</td>\n",
       "      <td>8.0</td>\n",
       "      <td>13.6</td>\n",
       "      <td>11.1</td>\n",
       "      <td>6.0</td>\n",
       "      <td>6.8</td>\n",
       "      <td>14.8</td>\n",
       "      <td>14.8</td>\n",
       "      <td>9.0</td>\n",
       "      <td>9.0</td>\n",
       "    </tr>\n",
       "    <tr>\n",
       "      <th>3</th>\n",
       "      <td>4.0</td>\n",
       "      <td>4.8</td>\n",
       "      <td>4.2</td>\n",
       "      <td>3.0</td>\n",
       "      <td>3.0</td>\n",
       "      <td>14.8</td>\n",
       "      <td>5.6</td>\n",
       "      <td>5.1</td>\n",
       "      <td>4.0</td>\n",
       "      <td>9.6</td>\n",
       "      <td>...</td>\n",
       "      <td>3.0</td>\n",
       "      <td>5.4</td>\n",
       "      <td>4.0</td>\n",
       "      <td>8.1</td>\n",
       "      <td>2.8</td>\n",
       "      <td>2.8</td>\n",
       "      <td>13.6</td>\n",
       "      <td>6.8</td>\n",
       "      <td>4.2</td>\n",
       "      <td>6.0</td>\n",
       "    </tr>\n",
       "    <tr>\n",
       "      <th>4</th>\n",
       "      <td>14.8</td>\n",
       "      <td>7.4</td>\n",
       "      <td>11.1</td>\n",
       "      <td>10.2</td>\n",
       "      <td>12.0</td>\n",
       "      <td>16.0</td>\n",
       "      <td>14.8</td>\n",
       "      <td>10.2</td>\n",
       "      <td>16.0</td>\n",
       "      <td>14.8</td>\n",
       "      <td>...</td>\n",
       "      <td>5.1</td>\n",
       "      <td>7.4</td>\n",
       "      <td>10.8</td>\n",
       "      <td>11.1</td>\n",
       "      <td>4.8</td>\n",
       "      <td>7.4</td>\n",
       "      <td>10.8</td>\n",
       "      <td>14.8</td>\n",
       "      <td>8.1</td>\n",
       "      <td>10.2</td>\n",
       "    </tr>\n",
       "  </tbody>\n",
       "</table>\n",
       "<p>5 rows × 33 columns</p>\n",
       "</div>"
      ],
      "text/plain": [
       "   PH-121  HS-101  CY-105  HS-105/12  MT-111  CS-105  CS-106  EL-102  EE-119  \\\n",
       "0    10.8     2.8     5.1        6.0     5.1     5.6     4.0     5.1    10.8   \n",
       "1    16.0     2.0     4.2        3.0     8.1     8.0     4.0    12.0     5.6   \n",
       "2    16.0     6.0    12.0        8.1    10.2    16.0    10.8    10.2    14.8   \n",
       "3     4.0     4.8     4.2        3.0     3.0    14.8     5.6     5.1     4.0   \n",
       "4    14.8     7.4    11.1       10.2    12.0    16.0    14.8    10.2    16.0   \n",
       "\n",
       "   ME-107  ...  EF-303  HS-304  CS-301  CS-302  TC-383  EL-332  CS-318  \\\n",
       "0     6.8  ...     5.1     4.8    12.0     6.0     4.8     4.0     6.8   \n",
       "1     4.0  ...     3.0     3.4    14.8     4.2     3.4     4.0    14.8   \n",
       "2    14.8  ...     7.2     8.0    13.6    11.1     6.0     6.8    14.8   \n",
       "3     9.6  ...     3.0     5.4     4.0     8.1     2.8     2.8    13.6   \n",
       "4    14.8  ...     5.1     7.4    10.8    11.1     4.8     7.4    10.8   \n",
       "\n",
       "   CS-306  CS-312  CS-317  \n",
       "0     8.0     5.1     5.1  \n",
       "1     4.0     4.2     3.0  \n",
       "2    14.8     9.0     9.0  \n",
       "3     6.8     4.2     6.0  \n",
       "4    14.8     8.1    10.2  \n",
       "\n",
       "[5 rows x 33 columns]"
      ]
     },
     "execution_count": 63,
     "metadata": {},
     "output_type": "execute_result"
    }
   ],
   "source": [
    "third_year.head()"
   ]
  },
  {
   "cell_type": "code",
   "execution_count": 64,
   "id": "b7617af5",
   "metadata": {},
   "outputs": [],
   "source": [
    "from sklearn.model_selection import train_test_split\n",
    "X_train, X_test, y_train, y_test = train_test_split(third_year,output,test_size=0.2) #SPLITTING THE DATASET INTO TRAINING AND TESTING PART"
   ]
  },
  {
   "cell_type": "code",
   "execution_count": 65,
   "id": "5dfb9f8d",
   "metadata": {},
   "outputs": [
    {
     "data": {
      "text/plain": [
       "456"
      ]
     },
     "execution_count": 65,
     "metadata": {},
     "output_type": "execute_result"
    }
   ],
   "source": [
    "len(X_train)"
   ]
  },
  {
   "cell_type": "code",
   "execution_count": 66,
   "id": "b3c7fab9",
   "metadata": {},
   "outputs": [
    {
     "data": {
      "text/plain": [
       "115"
      ]
     },
     "execution_count": 66,
     "metadata": {},
     "output_type": "execute_result"
    }
   ],
   "source": [
    "len(X_test)"
   ]
  },
  {
   "cell_type": "code",
   "execution_count": 67,
   "id": "6232cc18",
   "metadata": {},
   "outputs": [
    {
     "data": {
      "text/plain": [
       "array([[<AxesSubplot:title={'center':'PH-121'}>,\n",
       "        <AxesSubplot:title={'center':'HS-101'}>,\n",
       "        <AxesSubplot:title={'center':'CY-105'}>,\n",
       "        <AxesSubplot:title={'center':'HS-105/12'}>,\n",
       "        <AxesSubplot:title={'center':'MT-111'}>,\n",
       "        <AxesSubplot:title={'center':'CS-105'}>],\n",
       "       [<AxesSubplot:title={'center':'CS-106'}>,\n",
       "        <AxesSubplot:title={'center':'EL-102'}>,\n",
       "        <AxesSubplot:title={'center':'EE-119'}>,\n",
       "        <AxesSubplot:title={'center':'ME-107'}>,\n",
       "        <AxesSubplot:title={'center':'CS-107'}>,\n",
       "        <AxesSubplot:title={'center':'HS-205/20'}>],\n",
       "       [<AxesSubplot:title={'center':'MT-222'}>,\n",
       "        <AxesSubplot:title={'center':'EE-222'}>,\n",
       "        <AxesSubplot:title={'center':'MT-224'}>,\n",
       "        <AxesSubplot:title={'center':'CS-210'}>,\n",
       "        <AxesSubplot:title={'center':'CS-211'}>,\n",
       "        <AxesSubplot:title={'center':'CS-203'}>],\n",
       "       [<AxesSubplot:title={'center':'CS-214'}>,\n",
       "        <AxesSubplot:title={'center':'EE-217'}>,\n",
       "        <AxesSubplot:title={'center':'CS-212'}>,\n",
       "        <AxesSubplot:title={'center':'CS-215'}>,\n",
       "        <AxesSubplot:title={'center':'MT-331'}>,\n",
       "        <AxesSubplot:title={'center':'EF-303'}>],\n",
       "       [<AxesSubplot:title={'center':'HS-304'}>,\n",
       "        <AxesSubplot:title={'center':'CS-301'}>,\n",
       "        <AxesSubplot:title={'center':'CS-302'}>,\n",
       "        <AxesSubplot:title={'center':'TC-383'}>,\n",
       "        <AxesSubplot:title={'center':'EL-332'}>,\n",
       "        <AxesSubplot:title={'center':'CS-318'}>],\n",
       "       [<AxesSubplot:title={'center':'CS-306'}>,\n",
       "        <AxesSubplot:title={'center':'CS-312'}>,\n",
       "        <AxesSubplot:title={'center':'CS-317'}>, <AxesSubplot:>,\n",
       "        <AxesSubplot:>, <AxesSubplot:>]], dtype=object)"
      ]
     },
     "execution_count": 67,
     "metadata": {},
     "output_type": "execute_result"
    },
    {
     "data": {
      "image/png": "[encoded data removed]",
      "text/plain": [
       "<Figure size 2000x1500 with 36 Axes>"
      ]
     },
     "metadata": {},
     "output_type": "display_data"
    }
   ],
   "source": [
    "third_year.hist(bins=50, figsize=(20, 15))"
   ]
  },
  {
   "cell_type": "markdown",
   "id": "05fc4b3a",
   "metadata": {},
   "source": [
    "# Random forest"
   ]
  },
  {
   "cell_type": "code",
   "execution_count": 68,
   "id": "d8188d33",
   "metadata": {},
   "outputs": [],
   "source": [
    "from sklearn.ensemble import RandomForestRegressor\n",
    "Random_Forest_Model_model_3=RandomForestRegressor()"
   ]
  },
  {
   "cell_type": "code",
   "execution_count": 69,
   "id": "6c2613ad",
   "metadata": {},
   "outputs": [
    {
     "data": {
      "text/plain": [
       "RandomForestRegressor()"
      ]
     },
     "execution_count": 69,
     "metadata": {},
     "output_type": "execute_result"
    }
   ],
   "source": [
    "Random_Forest_Model_model_3.fit(X_train,y_train)"
   ]
  },
  {
   "cell_type": "code",
   "execution_count": 70,
   "id": "4fd7d4b8",
   "metadata": {},
   "outputs": [
    {
     "data": {
      "text/plain": [
       "array([2.57843, 3.23458, 2.60827, 2.76909, 2.2559 , 2.39321, 3.35221,\n",
       "       3.73395, 2.23212, 3.46044, 3.85766, 2.87808, 3.463  , 2.56505,\n",
       "       2.52814, 2.58227, 3.27224, 2.53318, 2.68289, 3.35458, 3.45979,\n",
       "       2.59437, 2.29396, 3.1065 , 2.89102, 3.80334, 2.51122, 3.03219,\n",
       "       3.28647, 2.42339, 3.06509, 3.8746 , 3.5462 , 2.63918, 3.26989,\n",
       "       2.96435, 3.54946, 3.2051 , 2.33338, 3.33554, 2.53569, 2.61094,\n",
       "       3.17931, 3.68936, 3.52774, 3.49905, 3.34852, 2.89016, 2.68481,\n",
       "       3.70221, 3.47413, 2.68056, 2.14772, 2.95002, 2.82051, 2.18512,\n",
       "       2.41721, 3.15358, 3.46526, 2.84194, 3.14332, 2.07249, 3.1345 ,\n",
       "       2.64696, 2.50288, 3.11523, 2.26397, 3.63695, 2.1514 , 3.23551,\n",
       "       2.95094, 2.39169, 3.90484, 3.18181, 2.41709, 1.12703, 2.65546,\n",
       "       2.01615, 3.23874, 2.91151, 3.38594, 2.44483, 3.13008, 3.79536,\n",
       "       2.34112, 3.35578, 2.64137, 3.28565, 2.13642, 2.47296, 3.50893,\n",
       "       3.02447, 2.13419, 2.27233, 3.48652, 3.66426, 1.42226, 2.97986,\n",
       "       2.31354, 3.15121, 3.22756, 2.06555, 3.2245 , 3.66909, 3.53188,\n",
       "       2.18171, 1.15605, 2.24096, 2.30845, 3.20174, 3.78971, 2.22897,\n",
       "       2.27435, 3.63101, 3.75125])"
      ]
     },
     "execution_count": 70,
     "metadata": {},
     "output_type": "execute_result"
    }
   ],
   "source": [
    "Predictions_of_Random_Forest_model_3=Random_Forest_Model_model_3.predict(X_test) #Try to predict(output) of test data\n",
    "Predictions_of_Random_Forest_model_3\n"
   ]
  },
  {
   "cell_type": "code",
   "execution_count": 71,
   "id": "601813a9",
   "metadata": {},
   "outputs": [
    {
     "name": "stdout",
     "output_type": "stream",
     "text": [
      "Accuracy on training set: 0.991\n",
      "Accuracy on test set: 0.957\n"
     ]
    }
   ],
   "source": [
    "#For training and testing accuracy\n",
    "print(\"Accuracy on training set: {:.3f}\".format(Random_Forest_Model_model_3.score(X_train,y_train)))\n",
    "print(\"Accuracy on test set: {:.3f}\".format(Random_Forest_Model_model_3.score(X_test,y_test)))"
   ]
  },
  {
   "cell_type": "markdown",
   "id": "92edef95",
   "metadata": {},
   "source": [
    "# evaluating the model"
   ]
  },
  {
   "cell_type": "code",
   "execution_count": 72,
   "id": "688e27a6",
   "metadata": {},
   "outputs": [
    {
     "data": {
      "text/plain": [
       "0.13507400377442047"
      ]
     },
     "execution_count": 72,
     "metadata": {},
     "output_type": "execute_result"
    }
   ],
   "source": [
    "#calculate rmse to find error in model . Less rmse good model\n",
    "from sklearn.metrics import mean_squared_error\n",
    "mse=mean_squared_error(y_test,Predictions_of_Random_Forest_model_3)\n",
    "rmse_of_Random_Forest_1_model_3=np.sqrt(mse)\n",
    "rmse_of_Random_Forest_1_model_3"
   ]
  },
  {
   "cell_type": "code",
   "execution_count": 73,
   "id": "21811440",
   "metadata": {},
   "outputs": [
    {
     "data": {
      "text/plain": [
       "array([0.18113599, 0.2127162 , 0.11048848, 0.20064293, 0.16203297,\n",
       "       0.16638798, 0.32391577, 0.09322976, 0.1851179 , 0.183453  ])"
      ]
     },
     "execution_count": 73,
     "metadata": {},
     "output_type": "execute_result"
    }
   ],
   "source": [
    "#Try cross validation to overcome overfitting if happens and then take rmse for every round in cross validation\n",
    "from sklearn.model_selection import cross_val_score\n",
    "cross_value_5=cross_val_score(Random_Forest_Model_model_3, X_test,y_test,scoring=\"neg_mean_squared_error\" ,cv=10)\n",
    "rmse_of_Random_Forest_model_3=np.sqrt(-cross_value_5)\n",
    "rmse_of_Random_Forest_model_3"
   ]
  },
  {
   "cell_type": "code",
   "execution_count": 74,
   "id": "4328e641",
   "metadata": {},
   "outputs": [
    {
     "data": {
      "text/plain": [
       "0.9571071817359564"
      ]
     },
     "execution_count": 74,
     "metadata": {},
     "output_type": "execute_result"
    }
   ],
   "source": [
    "#calculate r^2 metric to find accuracy in model. More its value more better model\n",
    "\n",
    "from sklearn.metrics import r2_score\n",
    "r2_score5=r2_score(y_test,Predictions_of_Random_Forest_model_3)\n",
    "r2_score5"
   ]
  },
  {
   "cell_type": "markdown",
   "id": "7efbfa0b",
   "metadata": {},
   "source": [
    "# DecisionTree Regressor"
   ]
  },
  {
   "cell_type": "code",
   "execution_count": 75,
   "id": "6a534d6f",
   "metadata": {},
   "outputs": [],
   "source": [
    "from sklearn.tree import DecisionTreeRegressor\n",
    "Decision_Tree_Model_model_3=DecisionTreeRegressor()#calling the function of algorithm"
   ]
  },
  {
   "cell_type": "code",
   "execution_count": 76,
   "id": "107a510f",
   "metadata": {},
   "outputs": [
    {
     "data": {
      "text/plain": [
       "DecisionTreeRegressor()"
      ]
     },
     "execution_count": 76,
     "metadata": {},
     "output_type": "execute_result"
    }
   ],
   "source": [
    "Decision_Tree_Model_model_3.fit(X_train,y_train)"
   ]
  },
  {
   "cell_type": "code",
   "execution_count": 77,
   "id": "2b8f3808",
   "metadata": {},
   "outputs": [
    {
     "data": {
      "text/plain": [
       "array([3.023, 3.365, 2.785, 2.146, 2.246, 2.576, 3.363, 3.659, 2.793,\n",
       "       3.516, 3.737, 2.603, 3.44 , 1.835, 2.146, 2.704, 3.227, 2.555,\n",
       "       2.619, 3.205, 3.396, 2.294, 2.696, 3.075, 3.325, 3.772, 1.747,\n",
       "       3.019, 2.995, 2.171, 2.845, 3.946, 3.408, 2.611, 3.4  , 3.044,\n",
       "       3.734, 3.369, 2.773, 3.723, 2.605, 2.478, 3.227, 3.761, 3.694,\n",
       "       3.335, 3.523, 2.773, 2.861, 3.876, 3.499, 2.701, 2.035, 3.033,\n",
       "       2.914, 2.793, 2.484, 3.176, 3.396, 2.659, 3.042, 1.658, 3.03 ,\n",
       "       2.782, 2.773, 3.167, 2.264, 3.625, 1.805, 3.058, 3.156, 2.294,\n",
       "       3.798, 3.219, 2.749, 0.998, 2.612, 1.806, 3.219, 2.851, 3.473,\n",
       "       2.922, 3.156, 3.876, 2.595, 3.356, 2.605, 3.369, 2.028, 2.171,\n",
       "       3.396, 2.854, 2.595, 2.084, 3.49 , 3.651, 0.998, 3.014, 2.352,\n",
       "       3.026, 3.405, 2.196, 3.042, 3.925, 3.571, 2.264, 0.8  , 2.288,\n",
       "       2.793, 3.205, 3.798, 1.747, 2.451, 3.586, 3.631])"
      ]
     },
     "execution_count": 77,
     "metadata": {},
     "output_type": "execute_result"
    }
   ],
   "source": [
    "Predictions_of_Decision_Tree_model_3=Decision_Tree_Model_model_3.predict(X_test)#Try to predict(output) of test data\n",
    "Predictions_of_Decision_Tree_model_3"
   ]
  },
  {
   "cell_type": "code",
   "execution_count": 78,
   "id": "923dd27c",
   "metadata": {},
   "outputs": [
    {
     "name": "stdout",
     "output_type": "stream",
     "text": [
      "Accuracy on training set: 1.000\n",
      "Accuracy on test set: 0.817\n"
     ]
    }
   ],
   "source": [
    "#For training and testing accuracy\n",
    "print(\"Accuracy on training set: {:.3f}\".format(Decision_Tree_Model_model_3.score(X_train,y_train)))\n",
    "print(\"Accuracy on test set: {:.3f}\".format(Decision_Tree_Model_model_3.score(X_test,y_test)))"
   ]
  },
  {
   "cell_type": "markdown",
   "id": "9d6db683",
   "metadata": {},
   "source": [
    "# Evaluating the model"
   ]
  },
  {
   "cell_type": "code",
   "execution_count": 79,
   "id": "5ad21405",
   "metadata": {},
   "outputs": [
    {
     "data": {
      "text/plain": [
       "0.27914393980603414"
      ]
     },
     "execution_count": 79,
     "metadata": {},
     "output_type": "execute_result"
    }
   ],
   "source": [
    "#calculate rmse to find error in model . Less rmse good model\n",
    "from sklearn.metrics import mean_squared_error\n",
    "mse=mean_squared_error(y_test,Predictions_of_Decision_Tree_model_3)\n",
    "rmse_of_Decision_Tree_1_model_3=np.sqrt(mse)\n",
    "rmse_of_Decision_Tree_1_model_3"
   ]
  },
  {
   "cell_type": "code",
   "execution_count": 80,
   "id": "1fe2d704",
   "metadata": {},
   "outputs": [
    {
     "data": {
      "text/plain": [
       "array([0.45832439, 0.38350695, 0.29521094, 0.35438468, 0.19884165,\n",
       "       0.30058549, 0.34624702, 0.29816195, 0.25021627, 0.18146951])"
      ]
     },
     "execution_count": 80,
     "metadata": {},
     "output_type": "execute_result"
    }
   ],
   "source": [
    "#Try cross validation to overcome overfitting if happens and then take rmse for every round in cross validation\n",
    "from sklearn.model_selection import cross_val_score\n",
    "cross_value_6=cross_val_score(Decision_Tree_Model_model_3, X_test,y_test,scoring=\"neg_mean_squared_error\" ,cv=10)\n",
    "rmse_of_Decision_Tree_model_3=np.sqrt(-cross_value_6)\n",
    "rmse_of_Decision_Tree_model_3"
   ]
  },
  {
   "cell_type": "code",
   "execution_count": 81,
   "id": "75564c87",
   "metadata": {},
   "outputs": [
    {
     "data": {
      "text/plain": [
       "0.8168118217566716"
      ]
     },
     "execution_count": 81,
     "metadata": {},
     "output_type": "execute_result"
    }
   ],
   "source": [
    "#calculate r^2 metric to find accuracy in model. More its value more better model\n",
    "from sklearn.metrics import r2_score\n",
    "r2_score6=r2_score6=r2_score(y_test,Predictions_of_Decision_Tree_model_3)\n",
    "r2_score6"
   ]
  },
  {
   "cell_type": "markdown",
   "id": "abc405dc",
   "metadata": {},
   "source": [
    "# Linnear Regression"
   ]
  },
  {
   "cell_type": "code",
   "execution_count": 82,
   "id": "86dfae60",
   "metadata": {},
   "outputs": [],
   "source": [
    "Linear_Regression_Model_model_3=LinearRegression()"
   ]
  },
  {
   "cell_type": "code",
   "execution_count": 83,
   "id": "b7105230",
   "metadata": {},
   "outputs": [
    {
     "data": {
      "text/plain": [
       "LinearRegression()"
      ]
     },
     "execution_count": 83,
     "metadata": {},
     "output_type": "execute_result"
    }
   ],
   "source": [
    "Linear_Regression_Model_model_3.fit(X_train,y_train)"
   ]
  },
  {
   "cell_type": "code",
   "execution_count": 84,
   "id": "316c681e",
   "metadata": {},
   "outputs": [
    {
     "data": {
      "text/plain": [
       "array([2.68827299, 3.29486031, 2.53845749, 2.70482566, 2.17156361,\n",
       "       2.44850818, 3.20769114, 3.74157158, 2.16538706, 3.43864832,\n",
       "       3.79333287, 2.86110946, 3.53778502, 2.3998897 , 2.67718352,\n",
       "       2.47727107, 3.28354138, 2.50162435, 2.73378418, 3.34902491,\n",
       "       3.32813739, 2.70912911, 2.12510356, 3.174636  , 2.88958512,\n",
       "       3.80160912, 2.54754916, 3.1188016 , 3.06016346, 2.26429124,\n",
       "       3.02733539, 3.86736133, 3.59398339, 2.78189728, 3.25730781,\n",
       "       2.90774033, 3.68618762, 3.21515174, 2.10162739, 3.45900644,\n",
       "       2.43843361, 2.6721415 , 3.41694374, 3.66809195, 3.59570288,\n",
       "       3.443837  , 3.31184333, 2.66005439, 2.79177485, 3.5740195 ,\n",
       "       3.65554788, 2.85196126, 2.2629409 , 3.11641779, 2.71658303,\n",
       "       2.2912989 , 2.3578458 , 3.09014426, 3.25206116, 3.01433096,\n",
       "       3.11612956, 1.77415207, 3.10421621, 2.68059807, 2.58729532,\n",
       "       3.21205069, 2.03871206, 3.74415042, 2.05286735, 3.28232179,\n",
       "       2.5686649 , 2.37203027, 3.87197257, 3.31998487, 2.27538056,\n",
       "       0.80927588, 2.73528797, 1.9922744 , 3.33352767, 2.73696365,\n",
       "       3.50365442, 2.5835082 , 2.92189804, 3.77236289, 2.51085148,\n",
       "       3.5393171 , 2.64576863, 3.16307309, 2.04091004, 2.47764928,\n",
       "       3.55076074, 2.96726614, 2.14025681, 2.15175069, 3.40775218,\n",
       "       3.68146901, 0.88105103, 2.88239721, 2.30559648, 3.26810626,\n",
       "       3.14080877, 2.32007968, 3.09047385, 3.70322389, 3.42717968,\n",
       "       2.23917076, 0.72223372, 2.20098934, 2.1616154 , 3.08180761,\n",
       "       3.81053088, 2.30900095, 2.10775131, 3.7466148 , 3.73909503])"
      ]
     },
     "execution_count": 84,
     "metadata": {},
     "output_type": "execute_result"
    }
   ],
   "source": [
    "Predictions_of_Linear_Regression_model_3=Linear_Regression_Model_model_3.predict(X_test) #Try to predict(output) of test data\n",
    "Predictions_of_Linear_Regression_model_3"
   ]
  },
  {
   "cell_type": "code",
   "execution_count": 85,
   "id": "3e33e199",
   "metadata": {},
   "outputs": [
    {
     "name": "stdout",
     "output_type": "stream",
     "text": [
      "Accuracy on training set: 0.949\n",
      "Accuracy on test set: 0.954\n"
     ]
    }
   ],
   "source": [
    "#For training and testing accuracy\n",
    "print(\"Accuracy on training set: {:.3f}\".format(Linear_Regression_Model_model_3.score(X_train,y_train)))\n",
    "print(\"Accuracy on test set: {:.3f}\".format(Linear_Regression_Model_model_3.score(X_test,y_test)))"
   ]
  },
  {
   "cell_type": "markdown",
   "id": "dd8bb7ba",
   "metadata": {},
   "source": [
    "# Evaluating the model"
   ]
  },
  {
   "cell_type": "code",
   "execution_count": 86,
   "id": "a30e8541",
   "metadata": {},
   "outputs": [
    {
     "data": {
      "text/plain": [
       "0.1401872172843396"
      ]
     },
     "execution_count": 86,
     "metadata": {},
     "output_type": "execute_result"
    }
   ],
   "source": [
    "from sklearn.metrics import mean_squared_error\n",
    "mse=mean_squared_error(y_test,Predictions_of_Linear_Regression_model_3)\n",
    "rmse_of_Linear_Regression_1_model_3=np.sqrt(mse)\n",
    "rmse_of_Linear_Regression_1_model_3"
   ]
  },
  {
   "cell_type": "code",
   "execution_count": 87,
   "id": "aaeeeb18",
   "metadata": {},
   "outputs": [
    {
     "data": {
      "text/plain": [
       "array([0.10047039, 0.06086776, 0.09085595, 0.11395166, 0.16125365,\n",
       "       0.1544637 , 0.22512188, 0.11773036, 0.20798156, 0.16518828])"
      ]
     },
     "execution_count": 87,
     "metadata": {},
     "output_type": "execute_result"
    }
   ],
   "source": [
    "from sklearn.model_selection import cross_val_score\n",
    "cross_value_1=cross_val_score(Linear_Regression_Model_model_3, X_test,y_test,scoring=\"neg_mean_squared_error\" ,cv=10)\n",
    "rmse_of_Linear_Regression_model_3=np.sqrt(-cross_value_1)\n",
    "rmse_of_Linear_Regression_model_3"
   ]
  },
  {
   "cell_type": "code",
   "execution_count": 88,
   "id": "065b8444",
   "metadata": {},
   "outputs": [
    {
     "data": {
      "text/plain": [
       "0.9537983095175415"
      ]
     },
     "execution_count": 88,
     "metadata": {},
     "output_type": "execute_result"
    }
   ],
   "source": [
    "from sklearn.metrics import r2_score\n",
    "r2_score8=r2_score(y_test,Predictions_of_Linear_Regression_model_3)\n",
    "r2_score8"
   ]
  },
  {
   "cell_type": "code",
   "execution_count": 89,
   "id": "4075b0df",
   "metadata": {},
   "outputs": [
    {
     "data": {
      "image/png": "[encoded data removed]",
      "text/plain": [
       "<Figure size 640x480 with 1 Axes>"
      ]
     },
     "metadata": {},
     "output_type": "display_data"
    }
   ],
   "source": [
    "#For comparision between 2 models on basis of cross validation\n",
    "results=[]\n",
    "results.append(-cross_value_5)\n",
    "results.append(-cross_value_6)\n",
    "models=[('RF3',Random_Forest_Model_model_3),('DT3',Decision_Tree_Model_model_3)]\n",
    "scoring='accuracy'\n",
    "names=[]\n",
    "for name,model in models:\n",
    "    names.append(name)\n",
    "#Boxplot Algorithm Comparison\n",
    "fig=plt.figure()\n",
    "fig.suptitle('Comparison between the models')\n",
    "ax=fig.add_subplot(111)\n",
    "plt.boxplot(results)\n",
    "ax.set_xticklabels(names)\n",
    "plt.show()"
   ]
  },
  {
   "cell_type": "code",
   "execution_count": null,
   "id": "d0f3d4f2",
   "metadata": {},
   "outputs": [],
   "source": []
  }
 ],
 "metadata": {
  "kernelspec": {
   "display_name": "Python 3 (ipykernel)",
   "language": "python",
   "name": "python3"
  },
  "language_info": {
   "codemirror_mode": {
    "name": "ipython",
    "version": 3
   },
   "file_extension": ".py",
   "mimetype": "text/x-python",
   "name": "python",
   "nbconvert_exporter": "python",
   "pygments_lexer": "ipython3",
   "version": "3.9.13"
  }
 },
 "nbformat": 4,
 "nbformat_minor": 5
}
